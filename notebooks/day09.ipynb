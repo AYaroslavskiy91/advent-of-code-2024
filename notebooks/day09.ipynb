{
 "cells": [
  {
   "cell_type": "code",
   "execution_count": 1,
   "id": "629f8ca6-1777-4c3a-bcb5-803ce82fb54d",
   "metadata": {},
   "outputs": [],
   "source": [
    "import numpy as np\n",
    "import pandas as pd\n",
    "import re"
   ]
  },
  {
   "cell_type": "code",
   "execution_count": 240,
   "id": "a4a75024-7d53-461b-a22e-e2cffea7c113",
   "metadata": {},
   "outputs": [
    {
     "data": {
      "text/plain": [
       "'5365105859'"
      ]
     },
     "execution_count": 240,
     "metadata": {},
     "output_type": "execute_result"
    }
   ],
   "source": [
    "with open('../input/day09.txt', 'r') as f:\n",
    "    line = f.read()\n",
    "\n",
    "line[:10]"
   ]
  },
  {
   "cell_type": "code",
   "execution_count": 66,
   "id": "c32fcfdb-5a57-4595-8195-5a18389bbe45",
   "metadata": {
    "scrolled": true
   },
   "outputs": [
    {
     "data": {
      "text/plain": [
       "['0', '0', '0', '0', '0', '.', '.', '.', '1', '1']"
      ]
     },
     "execution_count": 66,
     "metadata": {},
     "output_type": "execute_result"
    }
   ],
   "source": [
    "long = []\n",
    "for idx, enc in enumerate(zip(line[::2], line[1::2])):\n",
    "    for sub_idx in range(int(enc[0])):\n",
    "        long.append(str(idx))\n",
    "\n",
    "    for sub_idx in range(int(enc[1])):\n",
    "        long.append('.')\n",
    "\n",
    "for sub_idx in range(int(line[-1])):\n",
    "    long.append(str(idx+1))\n",
    "    \n",
    "long[:10]"
   ]
  },
  {
   "cell_type": "code",
   "execution_count": 54,
   "id": "cd3d87a4-cfdf-48ab-9e18-c5c5c9a0fa1a",
   "metadata": {},
   "outputs": [],
   "source": [
    "cpy = long.copy()\n",
    "while '.' in cpy:\n",
    "    tmp = cpy.pop()\n",
    "    if tmp != '.':\n",
    "        cpy[cpy.index('.')] = tmp"
   ]
  },
  {
   "cell_type": "code",
   "execution_count": 195,
   "id": "6443fc40-5521-41d4-b4b8-c7130367d519",
   "metadata": {
    "scrolled": true
   },
   "outputs": [],
   "source": [
    "def check_sum(files):\n",
    "    check_sum = 0\n",
    "    for idx, file_id in enumerate(files):\n",
    "        if file_id == '.':\n",
    "            file_id = 0\n",
    "        check_sum += idx * int(file_id)\n",
    "\n",
    "    return check_sum"
   ]
  },
  {
   "cell_type": "code",
   "execution_count": 56,
   "id": "6e5ef9c0-1d3a-4a2d-ac4d-8e7211d0aafb",
   "metadata": {},
   "outputs": [
    {
     "data": {
      "text/plain": [
       "6346871685398"
      ]
     },
     "execution_count": 56,
     "metadata": {},
     "output_type": "execute_result"
    }
   ],
   "source": [
    "p1 = check_sum(cpy)\n",
    "p1"
   ]
  },
  {
   "cell_type": "code",
   "execution_count": 241,
   "id": "6e3b6a1b-0844-4121-9847-e6e120a10fd5",
   "metadata": {},
   "outputs": [
    {
     "data": {
      "text/plain": [
       "[['.', 8],\n",
       " ['9995', 5],\n",
       " ['.', 6],\n",
       " ['9996', 7],\n",
       " ['.', 4],\n",
       " ['9997', 5],\n",
       " ['.', 8],\n",
       " ['9998', 2],\n",
       " ['.', 6],\n",
       " ['9999', 7]]"
      ]
     },
     "execution_count": 241,
     "metadata": {},
     "output_type": "execute_result"
    }
   ],
   "source": [
    "parsed = []\n",
    "for idx, enc in enumerate(zip(line[::2], line[1::2])):\n",
    "    parsed.append([str(idx),int(enc[0])])\n",
    "    parsed.append(['.', int(enc[1])])\n",
    "\n",
    "parsed.append([str(idx+1), int(line[-1])])\n",
    "parsed[-10:]"
   ]
  },
  {
   "cell_type": "code",
   "execution_count": 242,
   "id": "bfd29687-7722-4f8f-adaa-4dcb7aa86d95",
   "metadata": {
    "scrolled": true
   },
   "outputs": [
    {
     "name": "stdout",
     "output_type": "stream",
     "text": [
      "19500\n",
      "19000\n",
      "18500\n",
      "18000\n",
      "17500\n",
      "17000\n",
      "16500\n",
      "16000\n",
      "15500\n",
      "15000\n",
      "14500\n",
      "14000\n",
      "13500\n",
      "13000\n",
      "12500\n",
      "12000\n",
      "11500\n",
      "11000\n",
      "10500\n",
      "10000\n",
      "9500\n",
      "9000\n",
      "8500\n",
      "8000\n",
      "7500\n",
      "7000\n",
      "6500\n",
      "6000\n",
      "5500\n",
      "5000\n",
      "4500\n",
      "4000\n",
      "3500\n",
      "3000\n",
      "2500\n",
      "2000\n",
      "1500\n",
      "1000\n",
      "500\n",
      "0\n"
     ]
    },
    {
     "data": {
      "text/plain": [
       "[['0', 5],\n",
       " ['9998', 2],\n",
       " ['9990', 1],\n",
       " ['.', 0],\n",
       " ['1', 6],\n",
       " ['9997', 5],\n",
       " ['.', 0],\n",
       " ['2', 1],\n",
       " ['.', 0],\n",
       " ['3', 5]]"
      ]
     },
     "execution_count": 242,
     "metadata": {},
     "output_type": "execute_result"
    }
   ],
   "source": [
    "for rev_idx in range(len(parsed))[::-1]:\n",
    "    id_rev, len_rev = parsed[rev_idx]\n",
    "    for for_idx in range(rev_idx):\n",
    "        id_for, len_for = parsed[for_idx]\n",
    "        if id_rev != '.' and id_for == '.' and len_rev <= len_for:\n",
    "            len_diff = len_for - len_rev\n",
    "            parsed[for_idx][1] = len_diff\n",
    "            parsed[rev_idx] = ['.', len_rev]\n",
    "            parsed.insert(for_idx, [id_rev, len_rev])\n",
    "            break\n",
    "            \n",
    "    if rev_idx % 500 == 0:\n",
    "        print(rev_idx)\n",
    "parsed[:10]"
   ]
  },
  {
   "cell_type": "code",
   "execution_count": 245,
   "id": "bd4b9f22-0f86-45bc-96b7-42996b9e858c",
   "metadata": {},
   "outputs": [
    {
     "data": {
      "text/plain": [
       "['0', '0', '0', '0', '0', '9998', '9998', '9990', '1', '1']"
      ]
     },
     "execution_count": 245,
     "metadata": {},
     "output_type": "execute_result"
    }
   ],
   "source": [
    "defragged = []\n",
    "for idx in range(len(parsed)):\n",
    "    file_id, length = parsed[idx][0], parsed[idx][1]\n",
    "\n",
    "    for jdx in range(length):\n",
    "        defragged.append(file_id)\n",
    "defragged[:10]"
   ]
  },
  {
   "cell_type": "code",
   "execution_count": 244,
   "id": "8e8628cb-c282-4d48-958a-e1365b2ce91f",
   "metadata": {
    "scrolled": true
   },
   "outputs": [
    {
     "data": {
      "text/plain": [
       "6373055193464"
      ]
     },
     "execution_count": 244,
     "metadata": {},
     "output_type": "execute_result"
    }
   ],
   "source": [
    "check_sum(defragged)"
   ]
  },
  {
   "cell_type": "code",
   "execution_count": 204,
   "id": "a53c290b-a72d-4b89-a7dd-ee32f082e5ba",
   "metadata": {},
   "outputs": [
    {
     "data": {
      "text/plain": [
       "2858"
      ]
     },
     "execution_count": 204,
     "metadata": {},
     "output_type": "execute_result"
    }
   ],
   "source": [
    "check_sum([x for x in '00992111777.44.333....5555.6666.....8888..'])"
   ]
  },
  {
   "cell_type": "code",
   "execution_count": null,
   "id": "e324f539-2d60-4155-8a72-bbb9689fac63",
   "metadata": {},
   "outputs": [],
   "source": []
  }
 ],
 "metadata": {
  "kernelspec": {
   "display_name": "Python 3.11/ aoc2024",
   "language": "python",
   "name": "3.11"
  },
  "language_info": {
   "codemirror_mode": {
    "name": "ipython",
    "version": 3
   },
   "file_extension": ".py",
   "mimetype": "text/x-python",
   "name": "python",
   "nbconvert_exporter": "python",
   "pygments_lexer": "ipython3",
   "version": "3.11.10"
  }
 },
 "nbformat": 4,
 "nbformat_minor": 5
}
