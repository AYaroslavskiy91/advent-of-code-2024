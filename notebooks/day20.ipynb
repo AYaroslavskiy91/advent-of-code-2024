{
 "cells": [
  {
   "cell_type": "code",
   "execution_count": 198,
   "id": "d3eb8c49-46e4-4cbe-b6c4-4fe5d09ae14e",
   "metadata": {},
   "outputs": [],
   "source": [
    "import re\n",
    "import pandas as pd\n",
    "import numpy as np\n",
    "from collections import defaultdict\n",
    "from heapq import heappush, heappop\n",
    "import networkx as nx\n",
    "import sys"
   ]
  },
  {
   "cell_type": "code",
   "execution_count": 199,
   "id": "dd614693-0c2b-4a49-8604-8d861fd969b9",
   "metadata": {},
   "outputs": [],
   "source": [
    "sys.setrecursionlimit(20000)"
   ]
  },
  {
   "cell_type": "code",
   "execution_count": 288,
   "id": "24d2d29b-7026-468f-a76e-4c0f6f44058e",
   "metadata": {},
   "outputs": [
    {
     "data": {
      "text/plain": [
       "['#############################################################################################################################################',\n",
       " '#...........#...#...#...#.....#...###...#...................#...#.....#.................#.......###...###.......###...###...................#',\n",
       " '#.#########.#.#.#.#.#.#.#.###.#.#.###.#.#.#################.#.#.#.###.#.###############.#.#####.###.#.###.#####.###.#.###.#################.#',\n",
       " '#.....#.....#.#...#...#.#...#...#.#...#.#.................#...#...#...#.......#.........#.#.....#...#...#.#.....#...#...#.....#.............#',\n",
       " '#####.#.#####.#########.###.#####.#.###.#################.#########.#########.#.#########.#.#####.#####.#.#.#####.#####.#####.#.#############',\n",
       " '###...#.....#.........#.###.....#.#...#.###.......#.....#...#.......#.......#.#.#.........#.....#.....#.#.#.#...#.....#.###...#.#...#...#...#',\n",
       " '###.#######.#########.#.#######.#.###.#.###.#####.#.###.###.#.#######.#####.#.#.#.#############.#####.#.#.#.#.#.#####.#.###.###.#.#.#.#.#.#.#',\n",
       " '#...#.......###...#...#.#.......#.....#...#.#.....#...#.....#.......#.....#.#.#.#.....#.........###...#.#.#...#.#...#.#...#...#...#...#...#.#',\n",
       " '#.###.#########.#.#.###.#.###############.#.#.#######.#############.#####.#.#.#.#####.#.###########.###.#.#####.#.#.#.###.###.#############.#',\n",
       " '#...#...###...#.#.#...#...#.............#.#.#.###...#.........#.....#...#.#.#.#...###.#.###...#...#...#.#.#.....#.#.#.#...#...#...#.........#']"
      ]
     },
     "execution_count": 288,
     "metadata": {},
     "output_type": "execute_result"
    }
   ],
   "source": [
    "with open('../input/day20.txt', 'r') as f:\n",
    "    lines = f.read().splitlines()\n",
    "\n",
    "lines[:10]"
   ]
  },
  {
   "cell_type": "code",
   "execution_count": 289,
   "id": "4132d6d8-950e-4347-8cb5-3af7c637df2d",
   "metadata": {},
   "outputs": [],
   "source": [
    "def inits(lines):\n",
    "    for x in range(len(lines)):\n",
    "        for y in range(len(lines[0])):\n",
    "            if lines[x][y] == 'S':\n",
    "                start = (x, y)\n",
    "            if lines[x][y] == 'E':\n",
    "                end = (x, y)\n",
    "    return start, end"
   ]
  },
  {
   "cell_type": "code",
   "execution_count": 290,
   "id": "aadba71a-5e09-47d8-8649-e2ce1a2c6149",
   "metadata": {},
   "outputs": [],
   "source": [
    "def get_neighbors(x, y):\n",
    "    return [\n",
    "        (x+1, y),\n",
    "        (x-1, y),\n",
    "        (x, y+1),\n",
    "        (x, y-1),\n",
    "    ]"
   ]
  },
  {
   "cell_type": "code",
   "execution_count": 291,
   "id": "e675bf5b-629d-4d68-8c9c-a7e3bf85d999",
   "metadata": {},
   "outputs": [],
   "source": [
    "def dfs(x, y, path, end):\n",
    "    for xn, yn in get_neighbors(x, y):\n",
    "        if (xn, yn) == end:\n",
    "            path[(xn, yn)] = path[(x, y)] + 1\n",
    "            return path\n",
    "            \n",
    "        if lines[xn][yn] == '.' and (xn, yn) not in path:\n",
    "            path[(xn, yn)] = path[(x, y)] + 1\n",
    "            dfs(xn, yn, path, end)\n",
    "            return path"
   ]
  },
  {
   "cell_type": "code",
   "execution_count": 292,
   "id": "9e691d05-ad54-42d8-9eb3-216494ac9cc7",
   "metadata": {},
   "outputs": [],
   "source": [
    "def get_cheats(x, y):\n",
    "    return [\n",
    "        (x+2, y),\n",
    "        (x-2, y),\n",
    "        (x, y+2),\n",
    "        (x, y-2),\n",
    "    ]"
   ]
  },
  {
   "cell_type": "code",
   "execution_count": 293,
   "id": "895a9362-5cc9-479f-8fbc-371c0b7306cc",
   "metadata": {},
   "outputs": [],
   "source": [
    "start, end = inits(lines)"
   ]
  },
  {
   "cell_type": "code",
   "execution_count": 294,
   "id": "78b2a6c2-9e14-42d8-943b-a532c5578417",
   "metadata": {},
   "outputs": [],
   "source": [
    "p = dfs(*start, {start: 0}, end)"
   ]
  },
  {
   "cell_type": "code",
   "execution_count": 295,
   "id": "1fbe16d2-03ae-4930-872f-34d433424a0d",
   "metadata": {
    "scrolled": true
   },
   "outputs": [],
   "source": [
    "pcs = 0\n",
    "for node in p.keys():\n",
    "    for c in get_cheats(*node):\n",
    "        if c in p and (p[node] + 100 < p[c]):\n",
    "            pcs += 1"
   ]
  },
  {
   "cell_type": "code",
   "execution_count": 296,
   "id": "1546dea6-0a32-41c9-8d51-5f0bb0b6cd2b",
   "metadata": {},
   "outputs": [
    {
     "data": {
      "text/plain": [
       "1358"
      ]
     },
     "execution_count": 296,
     "metadata": {},
     "output_type": "execute_result"
    }
   ],
   "source": [
    "pcs"
   ]
  },
  {
   "cell_type": "code",
   "execution_count": 297,
   "id": "7c5996e9-fd36-4ca1-ab52-c06c11efad74",
   "metadata": {},
   "outputs": [],
   "source": [
    "def get_md(sx, sy, ex, ey):\n",
    "    dx = np.abs(ex - sx)\n",
    "    dy = np.abs(ey - sy)\n",
    "\n",
    "    return dx + dy"
   ]
  },
  {
   "cell_type": "code",
   "execution_count": 298,
   "id": "77cc604f-5678-4728-bac6-45bcfb47d59c",
   "metadata": {},
   "outputs": [],
   "source": [
    "pcs2 = 0\n",
    "for node in p.keys():\n",
    "    for c in p.keys():\n",
    "        md = get_md(*node, *c) \n",
    "        if md <= 20 and p[node] + md + 100 <= p[c]:\n",
    "            pcs2 += 1"
   ]
  },
  {
   "cell_type": "code",
   "execution_count": 299,
   "id": "320be933-48bf-43fe-963e-6b43724290fe",
   "metadata": {},
   "outputs": [
    {
     "data": {
      "text/plain": [
       "1005856"
      ]
     },
     "execution_count": 299,
     "metadata": {},
     "output_type": "execute_result"
    }
   ],
   "source": [
    "pcs2"
   ]
  },
  {
   "cell_type": "code",
   "execution_count": null,
   "id": "784cc372-6d57-4e94-a3db-71ad0ac01a4f",
   "metadata": {},
   "outputs": [],
   "source": []
  }
 ],
 "metadata": {
  "kernelspec": {
   "display_name": "Python 3.11/ aoc2024",
   "language": "python",
   "name": "3.11"
  },
  "language_info": {
   "codemirror_mode": {
    "name": "ipython",
    "version": 3
   },
   "file_extension": ".py",
   "mimetype": "text/x-python",
   "name": "python",
   "nbconvert_exporter": "python",
   "pygments_lexer": "ipython3",
   "version": "3.11.10"
  }
 },
 "nbformat": 4,
 "nbformat_minor": 5
}
