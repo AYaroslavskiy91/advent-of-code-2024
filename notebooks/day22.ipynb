{
 "cells": [
  {
   "cell_type": "code",
   "execution_count": 122,
   "id": "770e2b64-06ee-4370-8edc-1804393d7c1d",
   "metadata": {},
   "outputs": [],
   "source": [
    "import numpy as np\n",
    "import pandas as pd\n",
    "import re\n",
    "from functools import cache\n",
    "from collections import defaultdict"
   ]
  },
  {
   "cell_type": "code",
   "execution_count": 165,
   "id": "3a27ff55-1a78-414c-9365-7830a867ff0b",
   "metadata": {
    "scrolled": true
   },
   "outputs": [
    {
     "data": {
      "text/plain": [
       "['16373349', '15186552', '1622193', '11783676', '6308445']"
      ]
     },
     "execution_count": 165,
     "metadata": {},
     "output_type": "execute_result"
    }
   ],
   "source": [
    "with open('../input/day22.txt', 'r') as f:\n",
    "    lines = f.read().splitlines()\n",
    "\n",
    "lines[:5]"
   ]
  },
  {
   "cell_type": "code",
   "execution_count": 124,
   "id": "ea7e42f9-ca65-4a81-9bbd-1c7b2a66febc",
   "metadata": {},
   "outputs": [],
   "source": [
    "def mix_and_prune(sec, res):\n",
    "    return (sec ^ res) % 16777216"
   ]
  },
  {
   "cell_type": "code",
   "execution_count": 125,
   "id": "317cdf20-e8b7-4793-8623-401e76c8b2f9",
   "metadata": {},
   "outputs": [],
   "source": [
    "@cache\n",
    "def get_next_secret(sec):\n",
    "    nxt = mix_and_prune(sec, sec * 2**6)\n",
    "    nxt = mix_and_prune(nxt, nxt >> 5)\n",
    "    nxt = mix_and_prune(nxt, nxt * 2**11)\n",
    "\n",
    "    return nxt"
   ]
  },
  {
   "cell_type": "code",
   "execution_count": 126,
   "id": "84a59f19-a528-4011-aa9d-fd22b6061a59",
   "metadata": {},
   "outputs": [],
   "source": [
    "total = 0\n",
    "for line in lines:\n",
    "    sec = int(line)\n",
    "    for k in range(2000):\n",
    "        nxt_sec = get_next_secret(sec)\n",
    "        sec = nxt_sec\n",
    "    total += sec"
   ]
  },
  {
   "cell_type": "code",
   "execution_count": 127,
   "id": "f89633e9-10f3-4c7c-9c64-da71e5c84e29",
   "metadata": {},
   "outputs": [
    {
     "data": {
      "text/plain": [
       "13764677935"
      ]
     },
     "execution_count": 127,
     "metadata": {},
     "output_type": "execute_result"
    }
   ],
   "source": [
    "total"
   ]
  },
  {
   "cell_type": "code",
   "execution_count": 128,
   "id": "0b4874c5-22a7-4667-96b1-80fb70eeee6b",
   "metadata": {},
   "outputs": [],
   "source": [
    "def get_bananas_seq(sec):\n",
    "    prices = []\n",
    "    for k in range(2000):\n",
    "        nxt_sec = get_next_secret(sec)\n",
    "        prices.append(((nxt_sec % 10) - (sec % 10), nxt_sec % 10))\n",
    "        sec = nxt_sec\n",
    "\n",
    "    return prices"
   ]
  },
  {
   "cell_type": "code",
   "execution_count": 129,
   "id": "a9a33836-36d8-4c09-b31a-e43d098f0754",
   "metadata": {},
   "outputs": [],
   "source": [
    "def is_valid_dss(dss):\n",
    "    run_tot = 0\n",
    "    for d in dss:\n",
    "        run_tot += d\n",
    "        if np.abs(run_tot) > 9:\n",
    "            return False\n",
    "    return True"
   ]
  },
  {
   "cell_type": "code",
   "execution_count": 130,
   "id": "87a1bac7-4f93-4d16-babe-9c8fc20c0ddb",
   "metadata": {},
   "outputs": [],
   "source": [
    "def get_all_seqs(lines):\n",
    "    all_seqs = []\n",
    "    for line in lines:\n",
    "        sec = int(line)\n",
    "        seq = get_bananas_seq(sec)\n",
    "        all_seqs.append(seq)\n",
    "\n",
    "    return all_seqs"
   ]
  },
  {
   "cell_type": "code",
   "execution_count": 151,
   "id": "969e10a8-7b1e-40b0-b7b4-354528dd6e69",
   "metadata": {},
   "outputs": [],
   "source": [
    "d = np.arange(19) - 9\n",
    "valid_seqs = []\n",
    "for d1 in d:\n",
    "    for d2 in d:\n",
    "        for d3 in d:\n",
    "            for d4 in d:\n",
    "                pattern = (d1, d2, d3, d4)\n",
    "                if is_valid_dss(pattern):\n",
    "                    valid_seqs.append(pattern)"
   ]
  },
  {
   "cell_type": "code",
   "execution_count": 166,
   "id": "8c0c0496-6fee-4ec1-9b8d-693aa69b5bba",
   "metadata": {
    "scrolled": true
   },
   "outputs": [
    {
     "data": {
      "text/plain": [
       "1619"
      ]
     },
     "execution_count": 166,
     "metadata": {},
     "output_type": "execute_result"
    }
   ],
   "source": [
    "best_totals = defaultdict(int)\n",
    "seqs = get_all_seqs(lines)\n",
    "for seq in seqs:\n",
    "    seen = set()\n",
    "    for j in range(1996):\n",
    "        subseq = tuple(ds[0] for ds in seq[j:j+4])\n",
    "        if subseq not in seen:\n",
    "            seen.add(subseq)\n",
    "            best_totals[subseq] += seq[j+3][1]\n",
    "        \n",
    "best_total = max(best_totals.values())\n",
    "\n",
    "best_total"
   ]
  },
  {
   "cell_type": "code",
   "execution_count": null,
   "id": "9633e4f6-1fde-4260-9839-f1560432c9ba",
   "metadata": {},
   "outputs": [],
   "source": []
  }
 ],
 "metadata": {
  "kernelspec": {
   "display_name": "Python 3.11/ aoc2024",
   "language": "python",
   "name": "3.11"
  },
  "language_info": {
   "codemirror_mode": {
    "name": "ipython",
    "version": 3
   },
   "file_extension": ".py",
   "mimetype": "text/x-python",
   "name": "python",
   "nbconvert_exporter": "python",
   "pygments_lexer": "ipython3",
   "version": "3.11.10"
  }
 },
 "nbformat": 4,
 "nbformat_minor": 5
}
