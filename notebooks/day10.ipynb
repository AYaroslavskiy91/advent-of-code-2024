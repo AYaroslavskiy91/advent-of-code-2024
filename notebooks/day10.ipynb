{
 "cells": [
  {
   "cell_type": "code",
   "execution_count": 1,
   "id": "81cf9505-e653-435e-b8ad-5adeb4d2f9f8",
   "metadata": {},
   "outputs": [],
   "source": [
    "import numpy as np\n",
    "import pandas as pd\n",
    "import re"
   ]
  },
  {
   "cell_type": "code",
   "execution_count": 7,
   "id": "bdc82229-4c29-48c3-8ef1-bf98d87d8d90",
   "metadata": {},
   "outputs": [
    {
     "data": {
      "text/plain": [
       "['543067650323210321032110356789890110710189878760134567',\n",
       " '612148941212306782345091235410765227893258759651021298',\n",
       " '701238932301456798106787549323454336794567549842330807',\n",
       " '898547215450589867287654678892961245987654456732498910',\n",
       " '987656306769678956398013234781870301256003301201567821']"
      ]
     },
     "execution_count": 7,
     "metadata": {},
     "output_type": "execute_result"
    }
   ],
   "source": [
    "with open('../input/day10.txt', 'r') as f:\n",
    "    lines = f.read().splitlines()\n",
    "\n",
    "lines[:5]"
   ]
  },
  {
   "cell_type": "code",
   "execution_count": 13,
   "id": "76ce0c98-4611-4e39-9d80-8256705f901b",
   "metadata": {},
   "outputs": [],
   "source": [
    "def find_zeroes(lines):\n",
    "    coords = []\n",
    "    for x, line in enumerate(lines):\n",
    "        ys = [y.start() for y in re.finditer('0', line)]\n",
    "        for y in ys:\n",
    "            coords.append((x,y))\n",
    "\n",
    "    return coords\n",
    "    "
   ]
  },
  {
   "cell_type": "code",
   "execution_count": 15,
   "id": "2ab04ece-6780-4869-8f11-0a77401d768d",
   "metadata": {},
   "outputs": [],
   "source": [
    "def get_neighbors(coord):\n",
    "    x, y = coord[0], coord[1]\n",
    "    return (\n",
    "        [x+1, y],\n",
    "        [x-1, y],\n",
    "        [x, y+1],\n",
    "        [x, y-1],\n",
    "    )"
   ]
  },
  {
   "cell_type": "code",
   "execution_count": 30,
   "id": "0eef4118-2e7e-4451-8de8-32107c7e5f47",
   "metadata": {},
   "outputs": [],
   "source": [
    "def is_valid_neighbor(c_cur, c_next):\n",
    "    return int(lines[c_next[0]][c_next[1]]) - int(lines[c_cur[0]][c_cur[1]]) == 1"
   ]
  },
  {
   "cell_type": "code",
   "execution_count": 40,
   "id": "6165ac4e-9de6-47f9-b61a-0959f29a0b65",
   "metadata": {},
   "outputs": [],
   "source": [
    "def is_in_bounds(coord):\n",
    "    return coord[0] >= 0 and coord[0] < len(lines) and coord[1] >= 0 and coord[1] < len(lines[0])"
   ]
  },
  {
   "cell_type": "code",
   "execution_count": 41,
   "id": "a3add624-5a92-47b9-9e5e-c156ecd8ed6b",
   "metadata": {},
   "outputs": [],
   "source": [
    "def find_peaks(start):\n",
    "    peaks = []\n",
    "    if lines[start[0]][start[1]] == '9':\n",
    "        peaks.append(start)\n",
    "        return peaks\n",
    "    for coord in get_neighbors(start):\n",
    "        if is_in_bounds(coord):\n",
    "            if is_valid_neighbor(start, coord):\n",
    "                peaks = peaks + find_peaks(coord)\n",
    "\n",
    "    return peaks"
   ]
  },
  {
   "cell_type": "code",
   "execution_count": 42,
   "id": "ab7b00f5-354b-4be8-be35-ebaa993c5f65",
   "metadata": {},
   "outputs": [],
   "source": [
    "def get_trail_score(peaks):\n",
    "    return len(pd.DataFrame(peaks).drop_duplicates())"
   ]
  },
  {
   "cell_type": "code",
   "execution_count": 43,
   "id": "75cf12f7-c9e9-4e3c-a0c4-f8495eb8bbac",
   "metadata": {},
   "outputs": [
    {
     "data": {
      "text/plain": [
       "733"
      ]
     },
     "execution_count": 43,
     "metadata": {},
     "output_type": "execute_result"
    }
   ],
   "source": [
    "p1 = 0\n",
    "for start in find_zeroes(lines):\n",
    "    p1 += get_trail_score(find_peaks(start))\n",
    "\n",
    "p1"
   ]
  },
  {
   "cell_type": "code",
   "execution_count": 45,
   "id": "6b5f0199-db8e-4ab6-971d-a71d39c005dd",
   "metadata": {},
   "outputs": [],
   "source": [
    "def get_trail_rating(peaks):\n",
    "    return len(peaks)"
   ]
  },
  {
   "cell_type": "code",
   "execution_count": 46,
   "id": "0122286d-139f-4638-b6c7-74cf6837d80d",
   "metadata": {},
   "outputs": [
    {
     "data": {
      "text/plain": [
       "1514"
      ]
     },
     "execution_count": 46,
     "metadata": {},
     "output_type": "execute_result"
    }
   ],
   "source": [
    "p2 = 0\n",
    "for start in find_zeroes(lines):\n",
    "    p2 += get_trail_rating(find_peaks(start))\n",
    "\n",
    "p2"
   ]
  },
  {
   "cell_type": "code",
   "execution_count": null,
   "id": "5103e4d8-a063-428a-98bb-e5bde48c659a",
   "metadata": {},
   "outputs": [],
   "source": []
  }
 ],
 "metadata": {
  "kernelspec": {
   "display_name": "Python 3.11/ aoc2024",
   "language": "python",
   "name": "3.11"
  },
  "language_info": {
   "codemirror_mode": {
    "name": "ipython",
    "version": 3
   },
   "file_extension": ".py",
   "mimetype": "text/x-python",
   "name": "python",
   "nbconvert_exporter": "python",
   "pygments_lexer": "ipython3",
   "version": "3.11.10"
  }
 },
 "nbformat": 4,
 "nbformat_minor": 5
}
