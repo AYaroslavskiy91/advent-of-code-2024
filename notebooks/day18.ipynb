{
 "cells": [
  {
   "cell_type": "code",
   "execution_count": 1,
   "id": "e49e9a14-d967-42e8-8a40-21ed918d2c86",
   "metadata": {},
   "outputs": [],
   "source": [
    "import pandas as pd\n",
    "import numpy as np\n",
    "import re\n",
    "import networkx as nx"
   ]
  },
  {
   "cell_type": "code",
   "execution_count": 3,
   "id": "f1ace811-391f-4d18-a07f-d73d1ec565ce",
   "metadata": {},
   "outputs": [
    {
     "data": {
      "text/plain": [
       "['37,5', '45,9', '67,56', '40,15', '21,27']"
      ]
     },
     "execution_count": 3,
     "metadata": {},
     "output_type": "execute_result"
    }
   ],
   "source": [
    "with open('../input/day18.txt', 'r') as f:\n",
    "    lines = f.read().splitlines()\n",
    "lines[:5]"
   ]
  },
  {
   "cell_type": "code",
   "execution_count": 14,
   "id": "715a990d-9183-4592-b1bc-35ec5e0782a5",
   "metadata": {},
   "outputs": [],
   "source": [
    "def get_neighbors(x,y):\n",
    "    return [\n",
    "        (x+1, y),\n",
    "        (x-1, y),\n",
    "        (x, y+1),\n",
    "        (x, y-1),\n",
    "    ]"
   ]
  },
  {
   "cell_type": "code",
   "execution_count": 36,
   "id": "15b8eb22-82c9-4d28-afbc-39ff5d4e77b7",
   "metadata": {},
   "outputs": [],
   "source": [
    "def init_graph():\n",
    "    G = nx.Graph()\n",
    "    for x in range(71):\n",
    "        for y in range(71):\n",
    "            G.add_node((x,y))\n",
    "\n",
    "    for x in range(71):\n",
    "        for y in range(71):\n",
    "            for n in get_neighbors(x,y):\n",
    "                if n in G.nodes:\n",
    "                    G.add_edge((x,y), n)\n",
    "\n",
    "    return G"
   ]
  },
  {
   "cell_type": "code",
   "execution_count": 64,
   "id": "aaafd5fb-86b1-4246-b58e-13dc345ba5c3",
   "metadata": {},
   "outputs": [
    {
     "data": {
      "text/plain": [
       "<networkx.classes.graph.Graph at 0x74a1fabf8410>"
      ]
     },
     "execution_count": 64,
     "metadata": {},
     "output_type": "execute_result"
    }
   ],
   "source": [
    "G = init_graph()\n",
    "G"
   ]
  },
  {
   "cell_type": "code",
   "execution_count": 54,
   "id": "4aa930cb-d76d-412c-bbc2-7a66128e10ed",
   "metadata": {},
   "outputs": [],
   "source": [
    "def byte_fall(G, end):\n",
    "    for line in lines[:end]:\n",
    "        byte = tuple(int(d) for d in re.findall('\\d+', line))\n",
    "        G.remove_node(byte)\n",
    "    return G"
   ]
  },
  {
   "cell_type": "code",
   "execution_count": 55,
   "id": "6ebf637f-9ec8-4021-8c1c-b3ced399446b",
   "metadata": {},
   "outputs": [
    {
     "data": {
      "text/plain": [
       "364"
      ]
     },
     "execution_count": 55,
     "metadata": {},
     "output_type": "execute_result"
    }
   ],
   "source": [
    "Gt = byte_fall(G, 1024)\n",
    "nx.shortest_path_length(Gt, (0,0), (70,70))"
   ]
  },
  {
   "cell_type": "code",
   "execution_count": 67,
   "id": "20d33a0f-1037-4273-b411-8003351856a7",
   "metadata": {},
   "outputs": [],
   "source": [
    "def byte_fall_p2(G):\n",
    "    for line in lines:\n",
    "        byte = tuple(int(d) for d in re.findall('\\d+', line))\n",
    "        G.remove_node(byte)\n",
    "        try:\n",
    "            nx.shortest_path_length(G, (0,0), (70,70))\n",
    "        except:\n",
    "            print(line)\n",
    "            break"
   ]
  },
  {
   "cell_type": "code",
   "execution_count": 69,
   "id": "bce2a7a8-6369-4207-af6e-f0d60a133e22",
   "metadata": {},
   "outputs": [
    {
     "name": "stdout",
     "output_type": "stream",
     "text": [
      "52,28\n"
     ]
    }
   ],
   "source": [
    "G = init_graph()\n",
    "byte_fall_p2(G)"
   ]
  }
 ],
 "metadata": {
  "kernelspec": {
   "display_name": "Python 3.11/ aoc2024",
   "language": "python",
   "name": "3.11"
  },
  "language_info": {
   "codemirror_mode": {
    "name": "ipython",
    "version": 3
   },
   "file_extension": ".py",
   "mimetype": "text/x-python",
   "name": "python",
   "nbconvert_exporter": "python",
   "pygments_lexer": "ipython3",
   "version": "3.11.10"
  }
 },
 "nbformat": 4,
 "nbformat_minor": 5
}
