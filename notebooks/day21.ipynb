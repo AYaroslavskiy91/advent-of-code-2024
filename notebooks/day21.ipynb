{
 "cells": [
  {
   "cell_type": "code",
   "execution_count": 271,
   "id": "48f7cf28-2b5a-49ea-b537-85b102382a9c",
   "metadata": {},
   "outputs": [],
   "source": [
    "import pandas as pd\n",
    "import numpy as np\n",
    "from functools import cache\n",
    "from itertools import permutations"
   ]
  },
  {
   "cell_type": "code",
   "execution_count": 272,
   "id": "bf7fb7aa-9b92-48de-8ae1-f17847dfdbee",
   "metadata": {},
   "outputs": [
    {
     "data": {
      "text/plain": [
       "['382A', '463A']"
      ]
     },
     "execution_count": 272,
     "metadata": {},
     "output_type": "execute_result"
    }
   ],
   "source": [
    "with open('../input/day21.txt', 'r') as f:\n",
    "    lines = f.read().splitlines()\n",
    "\n",
    "lines[:2]"
   ]
  },
  {
   "cell_type": "code",
   "execution_count": 273,
   "id": "eface908-2c40-4585-a5cf-46d3851e41ae",
   "metadata": {},
   "outputs": [],
   "source": [
    "@cache\n",
    "def dir_to_num_kp(key_cur, key_new):\n",
    "    if key_cur == key_new:\n",
    "        return ''\n",
    "        \n",
    "    if key_cur == '0' and key_new == 'A':\n",
    "        return '>'\n",
    "\n",
    "    if key_cur == 'A' and key_new == '0':\n",
    "        return '<'\n",
    "    \n",
    "    if key_cur == 'A':\n",
    "        row_new = np.ceil(int(key_new)/3).astype(int)\n",
    "        col_new = (int(key_new) - 1) % 3\n",
    "\n",
    "        if col_new != 1:\n",
    "            return row_new * '^' + np.abs(col_new - 2) * '<'\n",
    "        else:\n",
    "            return '<^' + dir_to_num_kp('2', key_new)\n",
    "\n",
    "    if key_cur == '0':\n",
    "        return '^' + dir_to_num_kp('2', key_new)\n",
    "\n",
    "    col_cur= (int(key_cur) - 1) % 3\n",
    "    row_cur = np.ceil(int(key_cur)/3).astype(int)\n",
    "\n",
    "    if key_new == 'A':\n",
    "        if col_cur == 0:\n",
    "            return '>>' + (row_cur) * 'v'\n",
    "        return (row_cur) * 'v' + (2 - col_cur) * '>'\n",
    "\n",
    "    if key_new == '0':\n",
    "        if col_cur == 0:\n",
    "            return '>' + (row_cur) * 'v'\n",
    "        return dir_to_num_kp(key_cur, '2') + 'v'\n",
    "\n",
    " \n",
    "    if key_cur not in '0A' and key_new not in '0A':\n",
    "\n",
    "        row_new = np.ceil(int(key_new)/3).astype(int)\n",
    "        row_cur = np.ceil(int(key_cur)/3).astype(int)\n",
    "        col_new = (int(key_new) - 1) % 3\n",
    "        col_cur= (int(key_cur) - 1) % 3\n",
    "        command = ''\n",
    "    \n",
    "        if col_new < col_cur:\n",
    "            command = command + (col_cur - col_new) * '<'\n",
    "        if row_new < row_cur:\n",
    "            command = command + (row_cur - row_new) * 'v'\n",
    "        if row_new >= row_cur:\n",
    "            command = command + (row_new - row_cur) * '^'\n",
    "        if col_new >= col_cur:\n",
    "            command = command + (col_new - col_cur) * '>'\n",
    "            \n",
    "    return command"
   ]
  },
  {
   "cell_type": "code",
   "execution_count": 274,
   "id": "4c83f53e-5f39-4a86-9b57-60af3b7cf1c3",
   "metadata": {},
   "outputs": [],
   "source": [
    "@cache\n",
    "def dir_to_dir_kp(key_cur, key_new):\n",
    "    key_dict = {\n",
    "        '<': 1,\n",
    "        'v': 2,\n",
    "        '>': 3,\n",
    "        '^': 5,\n",
    "        'A': 6,\n",
    "    }\n",
    "\n",
    "    command = ''\n",
    "    kn = key_dict[key_new]\n",
    "    kc = key_dict[key_cur]\n",
    "    \n",
    "    rn = int(kn > 4)\n",
    "    rc = int(kc > 4)\n",
    "\n",
    "    cn = (kn - 1) % 3\n",
    "    cc = (kc - 1) % 3\n",
    "    \n",
    "    if key_cur == '<' and key_new != '<':\n",
    "        return (cn - cc) * '>' + np.abs(rn - rc) * '^'\n",
    "\n",
    "    if key_cur != '<' and key_new == '<':\n",
    "        return np.abs(rn - rc) * 'v' + (cc - cn) * '<' \n",
    "   \n",
    "    if rn <= rc:\n",
    "        command = command + (rc-rn) * 'v'\n",
    "        \n",
    "    if cn < cc:\n",
    "        command = command + (cc - cn) * '<'\n",
    "\n",
    "    if rn > rc:\n",
    "        command = command + '^'\n",
    "           \n",
    "    if cn >= cc:\n",
    "        command = command + (cn - cc) * '>'\n",
    "\n",
    "\n",
    "    return command"
   ]
  },
  {
   "cell_type": "code",
   "execution_count": 275,
   "id": "ddc41906-84a5-47fe-a30b-12bf406836bd",
   "metadata": {},
   "outputs": [],
   "source": [
    "def get_first_code(line):\n",
    "    cur = 'A'\n",
    "    command = ''\n",
    "    for k in range(len(line)):\n",
    "        new = line[k]\n",
    "        command = command + dir_to_num_kp(cur, new) + 'A'\n",
    "        cur = new\n",
    "    \n",
    "    return command"
   ]
  },
  {
   "cell_type": "code",
   "execution_count": 276,
   "id": "ee49002b-9481-43ce-951b-33f1d943dc89",
   "metadata": {},
   "outputs": [],
   "source": [
    "def get_next_code(command):\n",
    "    cur = 'A'\n",
    "    next_command = ''\n",
    "    for k in range(len(command)):\n",
    "        new = command[k]\n",
    "        next_command = next_command + dir_to_dir_kp(cur, new) + 'A'\n",
    "        cur = new\n",
    "\n",
    "    return next_command"
   ]
  },
  {
   "cell_type": "code",
   "execution_count": 277,
   "id": "5817cf37-ef69-497a-a9cb-b922cbc0f08a",
   "metadata": {},
   "outputs": [],
   "source": [
    "@cache\n",
    "def get_complexity(line, iters):\n",
    "    \n",
    "    code = get_first_code(line)\n",
    "    for i in range(iters):\n",
    "        code = get_next_code(code)\n",
    "    return code    "
   ]
  },
  {
   "cell_type": "code",
   "execution_count": 278,
   "id": "9c363a30-ac53-42f3-9f16-7534298b6a51",
   "metadata": {
    "scrolled": true
   },
   "outputs": [
    {
     "data": {
      "text/plain": [
       "179444"
      ]
     },
     "execution_count": 278,
     "metadata": {},
     "output_type": "execute_result"
    }
   ],
   "source": [
    "p1 = 0\n",
    "for line in lines:\n",
    "    p1 += len(get_complexity(line, 2)) * int(line[:3])\n",
    "p1"
   ]
  },
  {
   "cell_type": "code",
   "execution_count": 279,
   "id": "6992d2e4-288a-4fdd-a748-c4998f51e7c2",
   "metadata": {},
   "outputs": [],
   "source": [
    "dpad_to_dpad = {\n",
    "        ('<', '<'): '', \n",
    "        ('<', '^'): '>^', \n",
    "        ('<', '>'): '>>', \n",
    "        ('<', 'v'): '>', \n",
    "        ('<', 'A'): '>>^', \n",
    "        ('^', '<'): 'v<', \n",
    "        ('^', '^'): '', \n",
    "        ('^', '>'): 'v>', \n",
    "        ('^', 'v'): 'v', \n",
    "        ('^', 'A'): '>', \n",
    "        ('>', '<'): '<<', \n",
    "        ('>', '^'): '<^', \n",
    "        ('>', '>'): '', \n",
    "        ('>', 'v'): '<', \n",
    "        ('>', 'A'): '^', \n",
    "        ('v', '<'): '<', \n",
    "        ('v', '^'): '^', \n",
    "        ('v', '>'): '>', \n",
    "        ('v', 'v'): '', \n",
    "        ('v', 'A'): '^>',\n",
    "        ('A', '<'): 'v<<', \n",
    "        ('A', '^'): '<', \n",
    "        ('A', '>'): 'v', \n",
    "        ('A', 'v'): 'v<', \n",
    "        ('A', 'A'): '', \n",
    "    }"
   ]
  },
  {
   "cell_type": "code",
   "execution_count": 280,
   "id": "93d020d1-c53a-4d91-a822-417170e8d729",
   "metadata": {},
   "outputs": [],
   "source": [
    "def is_valid(cur, nxt, path):\n",
    "    if len(path) == 0:\n",
    "        return True\n",
    "        \n",
    "    if cur == '<':\n",
    "        if path[0] == '^':\n",
    "            return False\n",
    "\n",
    "    if nxt == '<':\n",
    "        if path[-1] == 'v':\n",
    "            return False\n",
    "\n",
    "    return True"
   ]
  },
  {
   "cell_type": "code",
   "execution_count": 281,
   "id": "2ef91448-3e78-4b7c-b4a2-cb908d9ad068",
   "metadata": {},
   "outputs": [],
   "source": [
    "def get_all_paths(cur, nxt):\n",
    "    p = permutations(dpad_to_dpad[(cur, nxt)])\n",
    "    return [\"\".join(pt) + 'A' for pt in p if is_valid(cur, nxt, pt)]\n",
    "    "
   ]
  },
  {
   "cell_type": "code",
   "execution_count": 282,
   "id": "2c42217e-c18d-4d11-926c-8fd74e0bc6dd",
   "metadata": {},
   "outputs": [],
   "source": [
    "@cache\n",
    "def totes(code, bot):\n",
    "    if bot == 0:\n",
    "        return len(code)\n",
    "    total = 0\n",
    "    acode = 'A' + code\n",
    "    for s, e in zip(acode, code):\n",
    "        total += min(totes(pt, bot - 1) for pt in get_all_paths(s, e))\n",
    "    return total"
   ]
  },
  {
   "cell_type": "code",
   "execution_count": 286,
   "id": "513efe02-30a7-4935-816f-05ac8854e40b",
   "metadata": {},
   "outputs": [
    {
     "name": "stdout",
     "output_type": "stream",
     "text": [
      "For bot=2 bots, the min length=179444\n",
      "For bot=25 bots, the min length=223285811665866\n"
     ]
    }
   ],
   "source": [
    "for bot in [2, 25]:\n",
    "    length = 0\n",
    "    for line in lines:\n",
    "        code = get_first_code(line)\n",
    "        length += (totes(code, bot)) * int(line[:3])\n",
    "    \n",
    "    print(f'For {bot=} bots, the min {length=}')"
   ]
  },
  {
   "cell_type": "code",
   "execution_count": null,
   "id": "540a9d0b-b382-4865-b918-d560b6383233",
   "metadata": {},
   "outputs": [],
   "source": []
  }
 ],
 "metadata": {
  "kernelspec": {
   "display_name": "Python 3.11/ aoc2024",
   "language": "python",
   "name": "3.11"
  },
  "language_info": {
   "codemirror_mode": {
    "name": "ipython",
    "version": 3
   },
   "file_extension": ".py",
   "mimetype": "text/x-python",
   "name": "python",
   "nbconvert_exporter": "python",
   "pygments_lexer": "ipython3",
   "version": "3.11.10"
  }
 },
 "nbformat": 4,
 "nbformat_minor": 5
}
