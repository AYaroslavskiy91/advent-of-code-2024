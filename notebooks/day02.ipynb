{
 "cells": [
  {
   "cell_type": "code",
   "execution_count": 25,
   "id": "661ce5eb-d17e-4856-b775-b548b6beb1cd",
   "metadata": {},
   "outputs": [],
   "source": [
    "import pandas as pd\n",
    "import numpy as np\n",
    "import re"
   ]
  },
  {
   "cell_type": "code",
   "execution_count": 83,
   "id": "c872157a-21be-437c-8752-91fe696adae6",
   "metadata": {},
   "outputs": [
    {
     "data": {
      "text/plain": [
       "'73 75 78 81 80\\n'"
      ]
     },
     "execution_count": 83,
     "metadata": {},
     "output_type": "execute_result"
    }
   ],
   "source": [
    "with open('../input/day02.txt', 'r') as f:\n",
    "    lines = f.readlines()\n",
    "lines[0]"
   ]
  },
  {
   "cell_type": "code",
   "execution_count": 169,
   "id": "7e5c6ba5-9560-43b2-ac83-0101e8b49fb4",
   "metadata": {
    "scrolled": true
   },
   "outputs": [
    {
     "data": {
      "text/plain": [
       "[[73, 75, 78, 81, 80],\n",
       " [81, 82, 83, 86, 89, 89],\n",
       " [66, 67, 68, 71, 75],\n",
       " [66, 67, 69, 70, 72, 74, 77, 83],\n",
       " [88, 90, 93, 90, 91, 92],\n",
       " [61, 62, 60, 63, 60],\n",
       " [39, 41, 44, 47, 48, 45, 47, 47],\n",
       " [63, 66, 63, 66, 70],\n",
       " [92, 95, 92, 93, 98],\n",
       " [86, 88, 91, 91, 92]]"
      ]
     },
     "execution_count": 169,
     "metadata": {},
     "output_type": "execute_result"
    }
   ],
   "source": [
    "levels = []\n",
    "for line in lines:\n",
    "    levels.append([int(x) for x in re.findall('\\d+', line)])\n",
    "levels[:10]"
   ]
  },
  {
   "cell_type": "code",
   "execution_count": 148,
   "id": "fc905086-7b61-405a-b08f-409f7619764b",
   "metadata": {},
   "outputs": [],
   "source": [
    "def is_safe(level):\n",
    "    return (\n",
    "        (sorted(level) == level or sorted(level, reverse=True) == level)\n",
    "    and np.abs(np.ediff1d(sorted(level)).max())<=3\n",
    "    and np.abs(np.ediff1d(sorted(level)).min())>0\n",
    "    )"
   ]
  },
  {
   "cell_type": "code",
   "execution_count": 149,
   "id": "b5f0c216-fb05-47a0-9601-a3a91201fd8b",
   "metadata": {},
   "outputs": [
    {
     "data": {
      "text/plain": [
       "np.int64(390)"
      ]
     },
     "execution_count": 149,
     "metadata": {},
     "output_type": "execute_result"
    }
   ],
   "source": [
    "p1 = np.sum([\n",
    "    is_safe(level)\n",
    "    for level in levels\n",
    "])\n",
    "p1"
   ]
  },
  {
   "cell_type": "code",
   "execution_count": 167,
   "id": "c4b16ea2-8dde-46ce-b214-0da875bb10dd",
   "metadata": {},
   "outputs": [],
   "source": [
    "def is_damp_safe(level):\n",
    "    for idx in range(len(level)):\n",
    "        tmp = level.copy()\n",
    "        del tmp[idx]\n",
    "        if is_safe(tmp):\n",
    "            return 1\n",
    "    return 0"
   ]
  },
  {
   "cell_type": "code",
   "execution_count": 168,
   "id": "86b14496-6903-459d-9ef7-552c22a85d7f",
   "metadata": {},
   "outputs": [
    {
     "data": {
      "text/plain": [
       "np.int64(439)"
      ]
     },
     "execution_count": 168,
     "metadata": {},
     "output_type": "execute_result"
    }
   ],
   "source": [
    "p2 = np.sum([\n",
    "    is_damp_safe(level)\n",
    "    for level in levels\n",
    "])\n",
    "p2"
   ]
  }
 ],
 "metadata": {
  "kernelspec": {
   "display_name": "Python 3.11/ aoc2024",
   "language": "python",
   "name": "3.11"
  },
  "language_info": {
   "codemirror_mode": {
    "name": "ipython",
    "version": 3
   },
   "file_extension": ".py",
   "mimetype": "text/x-python",
   "name": "python",
   "nbconvert_exporter": "python",
   "pygments_lexer": "ipython3",
   "version": "3.11.10"
  }
 },
 "nbformat": 4,
 "nbformat_minor": 5
}
