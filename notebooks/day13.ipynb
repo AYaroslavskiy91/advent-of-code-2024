{
 "cells": [
  {
   "cell_type": "code",
   "execution_count": 1,
   "id": "b29fc514-3d4c-4fc2-ae8b-962c646eebc3",
   "metadata": {},
   "outputs": [],
   "source": [
    "import re\n",
    "import numpy as np\n",
    "import pandas as pd"
   ]
  },
  {
   "cell_type": "code",
   "execution_count": 2,
   "id": "68e291a8-5968-4a64-8a7e-bf19966a26a4",
   "metadata": {},
   "outputs": [
    {
     "data": {
      "text/plain": [
       "['Button A: X+83, Y+59',\n",
       " 'Button B: X+34, Y+99',\n",
       " 'Prize: X=4485, Y=8127',\n",
       " '',\n",
       " 'Button A: X+13, Y+33',\n",
       " 'Button B: X+57, Y+19',\n",
       " 'Prize: X=13101, Y=9731',\n",
       " '',\n",
       " 'Button A: X+18, Y+60',\n",
       " 'Button B: X+83, Y+58']"
      ]
     },
     "execution_count": 2,
     "metadata": {},
     "output_type": "execute_result"
    }
   ],
   "source": [
    "with open('../input/day13.txt', 'r') as f:\n",
    "    lines = f.read().splitlines()\n",
    "\n",
    "lines[:10]"
   ]
  },
  {
   "cell_type": "code",
   "execution_count": 3,
   "id": "e83e2154-548d-4487-9d08-73b0cd645026",
   "metadata": {},
   "outputs": [],
   "source": [
    "def get_base_df():\n",
    "    dfs = []\n",
    "    for n in np.arange(1, 101):\n",
    "        dfs.append(pd.DataFrame((np.ones(100) * n, np.arange(1,101))).T)\n",
    "    combos = pd.concat(dfs).rename(columns={0:'A', 1:'B'}).assign(tokens = lambda x: 3*x['A'] + x['B'])\n",
    "    return combos"
   ]
  },
  {
   "cell_type": "code",
   "execution_count": 4,
   "id": "ccea5f3e-74a8-4791-bb0c-adb4f621333c",
   "metadata": {},
   "outputs": [],
   "source": [
    "def get_combinations(A_x, A_y, B_x, B_y, prize_x, prize_y):\n",
    "    df = (\n",
    "        get_base_df()\n",
    "        .assign(\n",
    "            value_x = lambda x: x.A*A_x + x.B*B_x,\n",
    "            value_y = lambda x: x.A*A_y + x.B*B_y,\n",
    "        )\n",
    "    )\n",
    "\n",
    "    return df"
   ]
  },
  {
   "cell_type": "code",
   "execution_count": 5,
   "id": "ec9881bb-a4a1-48fa-948b-e42967197349",
   "metadata": {},
   "outputs": [
    {
     "data": {
      "text/plain": [
       "np.float64(36838.0)"
      ]
     },
     "execution_count": 5,
     "metadata": {},
     "output_type": "execute_result"
    }
   ],
   "source": [
    "tokens = 0\n",
    "for machine in range(len(lines))[::4]:\n",
    "    A_x, A_y = [int(x) for x in re.findall('\\d+', lines[machine])]\n",
    "    B_x, B_y = [int(x) for x in re.findall('\\d+', lines[machine+1])]\n",
    "    prize_x, prize_y = [int(x) for x in re.findall('\\d+', lines[machine+2])]\n",
    "\n",
    "    df = get_combinations(A_x, A_y, B_x, B_y, prize_x, prize_y)\n",
    "    tokens += max(0, df.loc[\n",
    "        ((df.value_x == prize_x)\n",
    "        & (df.value_y == prize_y))\n",
    "    ].min().tokens)\n",
    "\n",
    "tokens"
   ]
  },
  {
   "cell_type": "code",
   "execution_count": 126,
   "id": "20257bc7-20b9-4cbf-88e0-ce34a7702193",
   "metadata": {
    "scrolled": true
   },
   "outputs": [
    {
     "data": {
      "text/plain": [
       "83029436920891"
      ]
     },
     "execution_count": 126,
     "metadata": {},
     "output_type": "execute_result"
    }
   ],
   "source": [
    "#p2; let's do this properly\n",
    "tokens = 0\n",
    "for machine in range(len(lines))[::4]:\n",
    "    p2 = 10000000000000\n",
    "    A_x, A_y = [int(x) for x in re.findall('\\d+', lines[machine])]\n",
    "    B_x, B_y = [int(x) for x in re.findall('\\d+', lines[machine+1])]\n",
    "    prize_x, prize_y = [int(x)+p2 for x in re.findall('\\d+', lines[machine+2])]\n",
    "    \n",
    "    lhs = np.array([[A_x, B_x], [A_y, B_y]])\n",
    "    rhs = np.array([prize_x, prize_y])\n",
    "\n",
    "\n",
    "    solution = np.rint(np.linalg.solve(lhs, rhs))\n",
    "    if np.all(np.column_stack(([A_x, A_y], [B_x, B_y])) @ solution == rhs):\n",
    "            min_token = int(3 * solution[0] + solution[1])\n",
    "            tokens += max(0, min_token)\n",
    "\n",
    "tokens"
   ]
  }
 ],
 "metadata": {
  "kernelspec": {
   "display_name": "Python 3.11/ aoc2024",
   "language": "python",
   "name": "3.11"
  },
  "language_info": {
   "codemirror_mode": {
    "name": "ipython",
    "version": 3
   },
   "file_extension": ".py",
   "mimetype": "text/x-python",
   "name": "python",
   "nbconvert_exporter": "python",
   "pygments_lexer": "ipython3",
   "version": "3.11.10"
  }
 },
 "nbformat": 4,
 "nbformat_minor": 5
}
