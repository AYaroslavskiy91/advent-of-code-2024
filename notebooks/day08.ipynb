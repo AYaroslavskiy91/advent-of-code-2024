{
 "cells": [
  {
   "cell_type": "code",
   "execution_count": 49,
   "id": "fad668ab-8855-43b6-b61b-d7db4f892b34",
   "metadata": {},
   "outputs": [],
   "source": [
    "import numpy as np\n",
    "import pandas as pd\n",
    "import re\n",
    "from itertools import combinations"
   ]
  },
  {
   "cell_type": "code",
   "execution_count": 8,
   "id": "0692048f-b635-4c32-84c6-97de2fa5491f",
   "metadata": {},
   "outputs": [
    {
     "data": {
      "text/plain": [
       "['........0.......................c.................',\n",
       " '........a.........................................',\n",
       " '.......0........................................r.',\n",
       " '.....W............................................',\n",
       " '..............Z..F.......................c........',\n",
       " '..F....a.....................c.......Lr....5......',\n",
       " '............................v.......L5............',\n",
       " '..................0.....v............r...E........',\n",
       " '...a..........................p..E..5...7L.m...Z..',\n",
       " '......j..0............z.....p.........E...........']"
      ]
     },
     "execution_count": 8,
     "metadata": {},
     "output_type": "execute_result"
    }
   ],
   "source": [
    "with open('../input/day08.txt', 'r') as f:\n",
    "    lines = f.read().splitlines()\n",
    "\n",
    "lines[:10]"
   ]
  },
  {
   "cell_type": "code",
   "execution_count": 14,
   "id": "3161c90c-8e83-49df-aa3e-bcae7a6f95b0",
   "metadata": {},
   "outputs": [],
   "source": [
    "ant_typs = set(re.findall('[a-zA-Z\\d]', ''.join(lines)))"
   ]
  },
  {
   "cell_type": "code",
   "execution_count": 47,
   "id": "24cc5d80-a054-4efb-a313-6e0a51c75d9a",
   "metadata": {},
   "outputs": [],
   "source": [
    "def find_indices(ant_typ):\n",
    "    indices = []\n",
    "    for x, line in enumerate(lines):\n",
    "        ys = [m.start(0) for m in re.finditer(ant_typ, line)]\n",
    "        [indices.append((x,y)) for y in ys]\n",
    "\n",
    "    return indices"
   ]
  },
  {
   "cell_type": "code",
   "execution_count": 70,
   "id": "8b0c3b4e-7ab9-4ef9-b20b-f1a7f386fd75",
   "metadata": {},
   "outputs": [],
   "source": [
    "def get_antinode_pairs(ant_pair):\n",
    "    ant_xs = [ant_pair[0][0], ant_pair[1][0]]\n",
    "    ant_ys = [ant_pair[0][1], ant_pair[1][1]]\n",
    "\n",
    "    dx = ant_xs[1] - ant_xs[0]\n",
    "    dy = ant_ys[1] - ant_ys[0]\n",
    "\n",
    "    anti_l = [ant_xs[0]-dx, ant_ys[0]-dy]\n",
    "    anti_r = [ant_xs[1]+dx, ant_ys[1]+dy]\n",
    "\n",
    "    \n",
    "    return [anti_l, anti_r]"
   ]
  },
  {
   "cell_type": "code",
   "execution_count": 82,
   "id": "dc898af0-ca4a-419e-ab4d-3ffe7033c200",
   "metadata": {},
   "outputs": [],
   "source": [
    "def find_antinodes(ant_inds):\n",
    "    ant_pairs = list(combinations(ant_inds, 2))\n",
    "\n",
    "    anti_inds = []\n",
    "    for pair in ant_pairs:\n",
    "        anti_inds = anti_inds + (get_antinode_pairs(pair))\n",
    "\n",
    "    return anti_inds"
   ]
  },
  {
   "cell_type": "code",
   "execution_count": 97,
   "id": "f2ceaedc-7882-4816-8065-866e713de632",
   "metadata": {},
   "outputs": [],
   "source": [
    "def check_valid(pair):\n",
    "    return pair[0] >= 0 and pair[1] >= 0 and pair[0] < len(lines) and pair[1] < len(lines[0]) "
   ]
  },
  {
   "cell_type": "code",
   "execution_count": 98,
   "id": "60ee304f-78a6-48c7-b731-0732d2c87148",
   "metadata": {},
   "outputs": [
    {
     "data": {
      "text/plain": [
       "409"
      ]
     },
     "execution_count": 98,
     "metadata": {},
     "output_type": "execute_result"
    }
   ],
   "source": [
    "anti_inds = []\n",
    "for ant_typ in ant_typs:\n",
    "    inds = find_indices(ant_typ)\n",
    "    anti_inds = anti_inds + find_antinodes(inds)\n",
    "\n",
    "p1 = len(pd.DataFrame([pair for pair in anti_inds if check_valid(pair)]).drop_duplicates())\n",
    "p1"
   ]
  },
  {
   "cell_type": "code",
   "execution_count": 150,
   "id": "15ab6cc3-df2b-4309-8b8c-257987d1ca96",
   "metadata": {},
   "outputs": [],
   "source": [
    "def get_antinode_pairs_p2(ant_pair):\n",
    "    ant_xs = [ant_pair[0][0], ant_pair[1][0]]\n",
    "    ant_ys = [ant_pair[0][1], ant_pair[1][1]]\n",
    "\n",
    "    dx = ant_xs[1] - ant_xs[0]\n",
    "    dy = ant_ys[1] - ant_ys[0]\n",
    "\n",
    "    anti_ls = [ant_pair[0], ant_pair[1]]\n",
    "    anti_rs = []\n",
    "    for idx in range(int(np.ceil(np.max([len(lines)/dx, len(lines)/dy])))):\n",
    "        anti_l = [ant_xs[0]-(1+idx)*dx, ant_ys[0]-(1+idx)*dy]\n",
    "        anti_r = [ant_xs[1]+(1+idx)*dx, ant_ys[1]+(1+idx)*dy]\n",
    "\n",
    "        anti_ls.append(anti_l)\n",
    "        anti_rs.append(anti_r)\n",
    "        \n",
    "    return anti_ls + anti_rs"
   ]
  },
  {
   "cell_type": "code",
   "execution_count": 151,
   "id": "f788c4f7-96b9-497c-90ec-dbdd0b5754f8",
   "metadata": {},
   "outputs": [],
   "source": [
    "def find_antinodes_p2(ant_inds):\n",
    "    ant_pairs = list(combinations(ant_inds, 2))\n",
    "\n",
    "    anti_inds = []\n",
    "    for pair in ant_pairs:\n",
    "        anti_inds = anti_inds + (get_antinode_pairs_p2(pair))\n",
    "\n",
    "    return anti_inds"
   ]
  },
  {
   "cell_type": "code",
   "execution_count": 152,
   "id": "41cfeb61-a66d-45d2-b879-d2ca9f8d3d10",
   "metadata": {},
   "outputs": [
    {
     "data": {
      "text/plain": [
       "1308"
      ]
     },
     "execution_count": 152,
     "metadata": {},
     "output_type": "execute_result"
    }
   ],
   "source": [
    "anti_inds = []\n",
    "for ant_typ in ant_typs:\n",
    "    inds = find_indices(ant_typ)\n",
    "    anti_inds = anti_inds + find_antinodes_p2(inds)\n",
    "\n",
    "p2 = len(pd.DataFrame([pair for pair in anti_inds if check_valid(pair)]).drop_duplicates())\n",
    "p2"
   ]
  },
  {
   "cell_type": "code",
   "execution_count": null,
   "id": "3c75cd88-68bb-4e7d-b92a-39ac4692a6e7",
   "metadata": {},
   "outputs": [],
   "source": []
  }
 ],
 "metadata": {
  "kernelspec": {
   "display_name": "Python 3.11/ aoc2024",
   "language": "python",
   "name": "3.11"
  },
  "language_info": {
   "codemirror_mode": {
    "name": "ipython",
    "version": 3
   },
   "file_extension": ".py",
   "mimetype": "text/x-python",
   "name": "python",
   "nbconvert_exporter": "python",
   "pygments_lexer": "ipython3",
   "version": "3.11.10"
  }
 },
 "nbformat": 4,
 "nbformat_minor": 5
}
