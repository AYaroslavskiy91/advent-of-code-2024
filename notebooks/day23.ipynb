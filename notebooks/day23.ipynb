{
 "cells": [
  {
   "cell_type": "code",
   "execution_count": 9,
   "id": "7f66301a-fe1e-4d34-82a2-3ec693a3f3fa",
   "metadata": {},
   "outputs": [],
   "source": [
    "import numpy as np\n",
    "import pandas as pd\n",
    "import re\n",
    "import networkx as nx"
   ]
  },
  {
   "cell_type": "code",
   "execution_count": 64,
   "id": "ecd5e06e-b6f8-477a-bab7-9122f28721e7",
   "metadata": {
    "scrolled": true
   },
   "outputs": [
    {
     "data": {
      "text/plain": [
       "['ad-bk', 'gv-gy', 'sk-ox', 'cj-xe', 'bt-ke']"
      ]
     },
     "execution_count": 64,
     "metadata": {},
     "output_type": "execute_result"
    }
   ],
   "source": [
    "with open('../input/day23.txt', 'r') as f:\n",
    "    lines = f.read().splitlines()\n",
    "\n",
    "lines[:5]"
   ]
  },
  {
   "cell_type": "code",
   "execution_count": 59,
   "id": "502030d2-4efe-43fc-9aee-60151ab0063d",
   "metadata": {},
   "outputs": [],
   "source": [
    "def get_computers(conn):\n",
    "    return re.findall('\\w+', conn)"
   ]
  },
  {
   "cell_type": "code",
   "execution_count": 60,
   "id": "54ba0a2d-e927-4999-b047-ae4b241ad280",
   "metadata": {},
   "outputs": [],
   "source": [
    "G = nx.Graph()\n",
    "for conn in lines:\n",
    "    comps = get_computers(conn)\n",
    "    G.add_edge(comps[0], comps[1])"
   ]
  },
  {
   "cell_type": "code",
   "execution_count": 61,
   "id": "cbccb45b-e187-446c-8288-b8218eb0d85d",
   "metadata": {
    "scrolled": true
   },
   "outputs": [],
   "source": [
    "mps = [x for x in nx.enumerate_all_cliques(G) if len(x) == 3]"
   ]
  },
  {
   "cell_type": "code",
   "execution_count": 62,
   "id": "15c98d40-360b-4d2c-9afc-5826e19d0c2c",
   "metadata": {},
   "outputs": [],
   "source": [
    "ts = [x for x in G.nodes() if x[0] == 't']"
   ]
  },
  {
   "cell_type": "code",
   "execution_count": 63,
   "id": "13f8cfa9-35c6-4d46-a24b-eedf1a8745ee",
   "metadata": {},
   "outputs": [
    {
     "data": {
      "text/plain": [
       "1348"
      ]
     },
     "execution_count": 63,
     "metadata": {},
     "output_type": "execute_result"
    }
   ],
   "source": [
    "len([mp for mp in mps if set(mp).intersection(ts)])"
   ]
  },
  {
   "cell_type": "code",
   "execution_count": 70,
   "id": "ee50fa11-43fa-4863-9d6c-bbfcf350c88a",
   "metadata": {},
   "outputs": [
    {
     "data": {
      "text/plain": [
       "13"
      ]
     },
     "execution_count": 70,
     "metadata": {},
     "output_type": "execute_result"
    }
   ],
   "source": [
    "biggest_mp = [x for x in nx.enumerate_all_cliques(G)]\n",
    "max([len(mp) for mp in biggest_mp])"
   ]
  },
  {
   "cell_type": "code",
   "execution_count": 73,
   "id": "71494aa8-da6b-4f63-a4a1-dc23d055d55b",
   "metadata": {
    "scrolled": true
   },
   "outputs": [],
   "source": [
    "comps = [c for mp in biggest_mp if len(mp) == 13 for c in mp]"
   ]
  },
  {
   "cell_type": "code",
   "execution_count": 79,
   "id": "1f694a1d-b0bb-4623-a6e8-1b34e15f1ad4",
   "metadata": {},
   "outputs": [
    {
     "data": {
      "text/plain": [
       "'am,bv,ea,gh,is,iy,ml,nj,nl,no,om,tj,yv'"
      ]
     },
     "execution_count": 79,
     "metadata": {},
     "output_type": "execute_result"
    }
   ],
   "source": [
    "','.join(np.sort(comps))"
   ]
  },
  {
   "cell_type": "code",
   "execution_count": null,
   "id": "22e6daad-63ff-43e0-b943-b61950d29655",
   "metadata": {},
   "outputs": [],
   "source": []
  }
 ],
 "metadata": {
  "kernelspec": {
   "display_name": "Python 3.11/ aoc2024",
   "language": "python",
   "name": "3.11"
  },
  "language_info": {
   "codemirror_mode": {
    "name": "ipython",
    "version": 3
   },
   "file_extension": ".py",
   "mimetype": "text/x-python",
   "name": "python",
   "nbconvert_exporter": "python",
   "pygments_lexer": "ipython3",
   "version": "3.11.10"
  }
 },
 "nbformat": 4,
 "nbformat_minor": 5
}
