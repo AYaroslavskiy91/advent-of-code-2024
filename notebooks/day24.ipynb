{
 "cells": [
  {
   "cell_type": "code",
   "execution_count": 66,
   "id": "a24b9a9a-84ea-48dc-9083-9107efaaf212",
   "metadata": {},
   "outputs": [],
   "source": [
    "import re\n",
    "import numpy as np\n",
    "from itertools import combinations\n",
    "import sys"
   ]
  },
  {
   "cell_type": "code",
   "execution_count": 67,
   "id": "1eb49c31-d26f-40a1-9e0c-cf27e7924ee0",
   "metadata": {},
   "outputs": [],
   "source": [
    "sys.setrecursionlimit(200)"
   ]
  },
  {
   "cell_type": "code",
   "execution_count": 231,
   "id": "3542879f-2ea3-4dac-aed1-c7c783e41662",
   "metadata": {},
   "outputs": [
    {
     "data": {
      "text/plain": [
       "'x00: 1\\nx01'"
      ]
     },
     "execution_count": 231,
     "metadata": {},
     "output_type": "execute_result"
    }
   ],
   "source": [
    "with open('../input/day24.txt', 'r') as f:\n",
    "    lines = f.read()\n",
    "\n",
    "lines[:10]"
   ]
  },
  {
   "cell_type": "code",
   "execution_count": 232,
   "id": "53326822-9db1-454d-a9fd-3f527c4a7a42",
   "metadata": {},
   "outputs": [],
   "source": [
    "inits_r, connects_r = lines.split('\\n\\n')"
   ]
  },
  {
   "cell_type": "code",
   "execution_count": 259,
   "id": "fbaf040f-6ed8-4c68-b2e3-33b18c08b490",
   "metadata": {},
   "outputs": [],
   "source": [
    "def init_wires(inits_r):\n",
    "    inits = {}\n",
    "    for init in inits_r.split('\\n'):\n",
    "        wire, bit = init.split(': ')\n",
    "        inits[wire] = int(bit)\n",
    "\n",
    "    return inits\n",
    "\n"
   ]
  },
  {
   "cell_type": "code",
   "execution_count": 260,
   "id": "4026daef-f53d-4c6b-a6a6-77316bd67de0",
   "metadata": {},
   "outputs": [],
   "source": [
    "def init_connects(connects_r):\n",
    "    connects = {}\n",
    "    for connect in connects_r.split('\\n'):\n",
    "        parsed_connect = re.findall('\\w+', connect)\n",
    "        target = parsed_connect[-1]\n",
    "        inputs = parsed_connect[0], parsed_connect[2]\n",
    "        logic = parsed_connect[1]\n",
    "        connects[target] = (inputs, logic)\n",
    "    return connects\n",
    "\n"
   ]
  },
  {
   "cell_type": "code",
   "execution_count": 268,
   "id": "41dd3f23-a5cc-44db-a023-fbf395661804",
   "metadata": {},
   "outputs": [],
   "source": [
    "def eval_wire(wire, inits, connects):\n",
    "    if wire in inits.keys():\n",
    "        return inits[wire]\n",
    "        \n",
    "    inputs = connects[wire]\n",
    "    logic = inputs[1]\n",
    "    wires = [wire for wire in inputs[0]]\n",
    "    if logic == 'AND':\n",
    "        return eval_wire(wires[0], inits, connects) & eval_wire(wires[1], inits, connects)\n",
    "\n",
    "    elif logic == 'OR':\n",
    "        return eval_wire(wires[0], inits, connects) | eval_wire(wires[1], inits, connects)\n",
    "\n",
    "    elif logic == 'XOR':\n",
    "        return eval_wire(wires[0], inits, connects) ^ eval_wire(wires[1], inits, connects)\n"
   ]
  },
  {
   "cell_type": "code",
   "execution_count": 269,
   "id": "c64b503f-10b4-4474-95b5-72c3a28550cb",
   "metadata": {},
   "outputs": [
    {
     "data": {
      "text/plain": [
       "array(['z00', 'z01', 'z02', 'z03', 'z04', 'z05', 'z06', 'z07', 'z08',\n",
       "       'z09', 'z10', 'z11', 'z12', 'z13', 'z14', 'z15', 'z16', 'z17',\n",
       "       'z18', 'z19', 'z20', 'z21', 'z22', 'z23', 'z24', 'z25', 'z26',\n",
       "       'z27', 'z28', 'z29', 'z30', 'z31', 'z32', 'z33', 'z34', 'z35',\n",
       "       'z36', 'z37', 'z38', 'z39', 'z40', 'z41', 'z42', 'z43', 'z44',\n",
       "       'z45'], dtype='<U3')"
      ]
     },
     "execution_count": 269,
     "metadata": {},
     "output_type": "execute_result"
    }
   ],
   "source": [
    "z_wires = np.sort([z for z in connects.keys() if z[0] == 'z'])\n",
    "z_wires"
   ]
  },
  {
   "cell_type": "code",
   "execution_count": 270,
   "id": "96615560-55e3-40a7-977c-d68a4fc2807f",
   "metadata": {},
   "outputs": [
    {
     "data": {
      "text/plain": [
       "59336987801432"
      ]
     },
     "execution_count": 270,
     "metadata": {},
     "output_type": "execute_result"
    }
   ],
   "source": [
    "output = []\n",
    "inits = init_wires(inits_r).copy()\n",
    "connects = init_connects(connects_r).copy()\n",
    "for wire in z_wires:\n",
    "    output.insert(0, str(eval_wire(wire, inits, connects)))\n",
    "int(\"\".join(output), 2)"
   ]
  },
  {
   "cell_type": "markdown",
   "id": "cbc135c8-b16c-4760-8bf8-966c7dd7e099",
   "metadata": {},
   "source": [
    "## Part 2 with some help from reddit community; learned about adders and used some hints and sample code"
   ]
  },
  {
   "cell_type": "code",
   "execution_count": 298,
   "id": "d9d98e1e-5d5e-49a5-a189-5ca498df097b",
   "metadata": {},
   "outputs": [],
   "source": [
    "def validate_output(wire_num, connects):\n",
    "\n",
    "    inits = init_wires(inits_r).copy()\n",
    "    for key in inits.keys():\n",
    "        inits[key] == 0\n",
    "        \n",
    "    for x in (0, 1):\n",
    "        for y in (0, 1):\n",
    "            for carry in (0, 1):\n",
    "                init_x = [x] + [0] * (wire_num - 1)\n",
    "                init_y = [y] + [0] * (wire_num - 1)\n",
    "                \n",
    "                if wire_num > 0: \n",
    "                    init_x = [0] * (wire_num - 1) + [carry] + init_x \n",
    "                    init_y = [0] * (wire_num - 1) + [carry] + init_y \n",
    "                    \n",
    "                if wire_num == 0 and carry == 1:\n",
    "                    continue \n",
    "\n",
    "                for i, (bx, by) in enumerate(zip(init_x, init_y)):\n",
    "                    inits[\"x\" + str(i).zfill(2)] = bx\n",
    "                    inits[\"y\" + str(i).zfill(2)] = by\n",
    "                \n",
    "                z = eval_wire(\"z\" + str(wire_num).zfill(2), inits, connects)\n",
    "                if z != (x + y + carry) % 2:\n",
    "                    return False\n",
    "    \n",
    "    return True"
   ]
  },
  {
   "cell_type": "code",
   "execution_count": 299,
   "id": "945b00a0-add8-419b-8781-963de3d59f2f",
   "metadata": {},
   "outputs": [],
   "source": [
    "def get_first_failure(connects, lowest_failure):\n",
    "    for i in range(lowest_failure, 45):\n",
    "        if not validate_output(i, connects):\n",
    "            return i\n",
    "\n",
    "    return -1"
   ]
  },
  {
   "cell_type": "code",
   "execution_count": 300,
   "id": "c6944ccb-9c39-4c6f-ba74-ee480fcea7df",
   "metadata": {},
   "outputs": [],
   "source": [
    "def swap_connects(w1, w2, connects):\n",
    "    c1 = connects[w1]\n",
    "    c2 = connects[w2]\n",
    "\n",
    "    connects[w1] = c2\n",
    "    connects[w2] = c1"
   ]
  },
  {
   "cell_type": "code",
   "execution_count": 301,
   "id": "176ed5cf-e79e-4991-be39-0ad0f317cffc",
   "metadata": {},
   "outputs": [],
   "source": [
    "def find_swap_candidates(connects, lowest_failure):\n",
    "    swap_candidates = []\n",
    "    new_lowest = lowest_failure\n",
    "    while new_lowest != -1 or len(swap_candidates) < 4:\n",
    "        # Loop until we've tried every pair - or there are no more failures\n",
    "        for w1 in connects: \n",
    "            for w2 in connects: \n",
    "                if w1 == w2: \n",
    "                    continue\n",
    "                \n",
    "                sorted_pair = tuple(sorted((w1, w2)))\n",
    "                if sorted_pair in swap_candidates:\n",
    "                    continue\n",
    "                \n",
    "                swap_connects(w1, w2, connects)\n",
    "                try:\n",
    "                    new_lowest = get_first_failure(connects, lowest_failure)\n",
    "                    if new_lowest == -1 or new_lowest > lowest_failure:\n",
    "                        lowest_failure = new_lowest\n",
    "                        swap_candidates.append(sorted_pair)\n",
    "                        break\n",
    "                except RecursionError as e:\n",
    "                    pass \n",
    "                \n",
    "                swap_connects(w1, w2, connects)\n",
    "            else:\n",
    "                continue\n",
    "            \n",
    "            break\n",
    "        \n",
    "        if len(swap_candidates) == 0:\n",
    "            print(\"dafuq\")\n",
    "            break\n",
    "            \n",
    "    return swap_candidates, connects"
   ]
  },
  {
   "cell_type": "code",
   "execution_count": 302,
   "id": "02e3b48a-e3d6-40e1-b1e9-063fd2dfb9a7",
   "metadata": {},
   "outputs": [],
   "source": [
    "connects = init_connects(connects_r)\n",
    "    \n",
    "lowest_failure = get_first_failure(connects, 0)\n",
    "swaps, local_connects = find_swap_candidates(connects, lowest_failure)"
   ]
  },
  {
   "cell_type": "code",
   "execution_count": 303,
   "id": "3912f39d-5788-453c-ab22-ee96a91aea16",
   "metadata": {},
   "outputs": [
    {
     "data": {
      "text/plain": [
       "'ctg,dmh,dvq,rpb,rpv,z11,z31,z38'"
      ]
     },
     "execution_count": 303,
     "metadata": {},
     "output_type": "execute_result"
    }
   ],
   "source": [
    "\",\".join(sorted([item for pair in swaps for item in pair]))"
   ]
  }
 ],
 "metadata": {
  "kernelspec": {
   "display_name": "Python 3.11/ aoc2024",
   "language": "python",
   "name": "3.11"
  },
  "language_info": {
   "codemirror_mode": {
    "name": "ipython",
    "version": 3
   },
   "file_extension": ".py",
   "mimetype": "text/x-python",
   "name": "python",
   "nbconvert_exporter": "python",
   "pygments_lexer": "ipython3",
   "version": "3.11.10"
  }
 },
 "nbformat": 4,
 "nbformat_minor": 5
}
