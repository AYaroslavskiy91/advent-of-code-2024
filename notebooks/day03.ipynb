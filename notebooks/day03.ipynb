{
 "cells": [
  {
   "cell_type": "code",
   "execution_count": 1,
   "id": "7a713262-1b6b-402d-901d-c9734f49902e",
   "metadata": {},
   "outputs": [],
   "source": [
    "import pandas as pd\n",
    "import numpy as np\n",
    "import re"
   ]
  },
  {
   "cell_type": "code",
   "execution_count": 55,
   "id": "374bdec9-a64e-457c-97cf-f29c48a522db",
   "metadata": {},
   "outputs": [],
   "source": [
    "with open('../input/day03.txt', 'r') as f:\n",
    "    lines = f.readlines()"
   ]
  },
  {
   "cell_type": "code",
   "execution_count": 8,
   "id": "af074474-a1d9-4daf-82ca-129108971288",
   "metadata": {},
   "outputs": [],
   "source": [
    "def get_muls(line):\n",
    "    return re.findall('mul\\(\\d+,\\d+\\)', line)"
   ]
  },
  {
   "cell_type": "code",
   "execution_count": 23,
   "id": "4de9aa26-624e-403b-abd0-638a040d70fc",
   "metadata": {},
   "outputs": [],
   "source": [
    "def get_prods(line):\n",
    "    return np.sum([\n",
    "        np.prod([int(x) for x in (re.findall('\\d+', re.findall('mul\\(\\d+,\\d+\\)', mul)[0]))])\n",
    "        for mul in line\n",
    "        ])"
   ]
  },
  {
   "cell_type": "code",
   "execution_count": 25,
   "id": "9eb13bd5-dfd5-45cb-b0e2-78109ac1a748",
   "metadata": {},
   "outputs": [
    {
     "data": {
      "text/plain": [
       "np.int64(165225049)"
      ]
     },
     "execution_count": 25,
     "metadata": {},
     "output_type": "execute_result"
    }
   ],
   "source": [
    "p1 = np.sum([\n",
    "    get_prods(get_muls(line))\n",
    "    for line in lines\n",
    "])\n",
    "p1"
   ]
  },
  {
   "cell_type": "code",
   "execution_count": 50,
   "id": "194bcb49-7ceb-46db-8fd8-39399e96ebe9",
   "metadata": {},
   "outputs": [],
   "source": [
    "full_lines = ''.join([line.strip() for line in lines]).split(sep='don\\'t()')"
   ]
  },
  {
   "cell_type": "code",
   "execution_count": 53,
   "id": "5dc762a4-a651-4fba-ab18-f306c8cd82df",
   "metadata": {},
   "outputs": [
    {
     "data": {
      "text/plain": [
       "['',\n",
       " 'do()<when()>@<>,{*<mul(695,394)from(){/~mul(192,894);how()where()what()who()!:mul(932,681)@select()(where()@{?^+mul(260,501)from()+select()?^mul(445,400)@:;>^/why()[',\n",
       " 'do()-+[$mul(406,365)how()mul(561,819)how():select()[:when()mul(283,930)where()$>why():<from(){who()^mul(5,405);%#what()[(*>#mul(154,725)from(496,796))@[how()from()- mul(942,491)-',\n",
       " \"do(){where()#&$};,}mul(903,867);-#**[/~mul(698,27),~mul(701,325)where()#who()>)'mul(544,423)@@ mul(543,903)why()mul(610,22)where()when()^)mul(529,383) ;,/'when(179,924)mul(31,223)when());<mul(812,214)mul(375,504)]:(~& !who()[~mul(192,595){~[{what()who()'from()mul(127,309)who()mul(555,543)%/%!~select(),?[from()mul(832,869)mul(808,878){[@mul(301,808)?>*from()mul(810,928) ^'{'?~mul(840,456)?where()}~:who()'do()@where(){(@$select(471,179)mul(490,95)where()?>)<mul(355,525)from(971,891)+select(){mul(247,601))%how()[;~select()mul(960,14)? #}/~from()why()%from()mul(507,980+from()#@@mul(50,394)how(751,319)who()?~what()'when()$}-mul(791,444)))!#/>^$mul(192,331)?when()where()!}who()*%[%mul(778,800)+}when()who()how()mul(836,264)from()+)@where()mul(261,535)&)@why()-#/(mul(187,2)(?what()mul(467,281)when()where()#, [+what()select()(mul(232,619)\",\n",
       " '',\n",
       " '',\n",
       " '',\n",
       " \"do()mul(988,752):' ^:where()>&{>mul(533,345)>where()>%when()mul(816,202)#what()]+/}%when()<]\",\n",
       " 'do();>what()}what(318,824)mul(755,111)%/(?*}#how(431,277)mul(85,134)mul(280~<$:who()when()where(174,374)mul(113,173)>',\n",
       " '']"
      ]
     },
     "execution_count": 53,
     "metadata": {},
     "output_type": "execute_result"
    }
   ],
   "source": [
    "new_lines = [''.join(re.findall('do\\(\\).+', line)) for line in full_lines]\n",
    "new_lines[:10]"
   ]
  },
  {
   "cell_type": "code",
   "execution_count": 54,
   "id": "14c14555-53fe-4803-9e66-34f6add43bf6",
   "metadata": {},
   "outputs": [
    {
     "data": {
      "text/plain": [
       "np.float64(108830766.0)"
      ]
     },
     "execution_count": 54,
     "metadata": {},
     "output_type": "execute_result"
    }
   ],
   "source": [
    "p2 = np.sum([\n",
    "    get_prods(get_muls(line))\n",
    "    for line in new_lines\n",
    "])\n",
    "p2"
   ]
  }
 ],
 "metadata": {
  "kernelspec": {
   "display_name": "Python 3.11/ aoc2024",
   "language": "python",
   "name": "3.11"
  },
  "language_info": {
   "codemirror_mode": {
    "name": "ipython",
    "version": 3
   },
   "file_extension": ".py",
   "mimetype": "text/x-python",
   "name": "python",
   "nbconvert_exporter": "python",
   "pygments_lexer": "ipython3",
   "version": "3.11.10"
  }
 },
 "nbformat": 4,
 "nbformat_minor": 5
}
