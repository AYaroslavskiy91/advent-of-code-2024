{
 "cells": [
  {
   "cell_type": "code",
   "execution_count": 53,
   "id": "45bf59e5-2620-4480-9811-e72a01c8243a",
   "metadata": {},
   "outputs": [],
   "source": [
    "import pandas as pd\n",
    "import numpy as np\n",
    "from collections import defaultdict\n",
    "import re"
   ]
  },
  {
   "cell_type": "code",
   "execution_count": 5,
   "id": "2e215ee1-c08d-47ae-9f25-75022c2ce758",
   "metadata": {},
   "outputs": [
    {
     "data": {
      "text/plain": [
       "['4022724', '951333', '0']"
      ]
     },
     "execution_count": 5,
     "metadata": {},
     "output_type": "execute_result"
    }
   ],
   "source": [
    "with open('../input/day11.txt', 'r') as f:\n",
    "    line = f.read().split(' ')\n",
    "\n",
    "line[:3]"
   ]
  },
  {
   "cell_type": "code",
   "execution_count": 9,
   "id": "cf2c7f24-26c3-47e4-99b3-31008a7be62f",
   "metadata": {},
   "outputs": [],
   "source": [
    "def apply_rule_1(eng):\n",
    "    return '1'"
   ]
  },
  {
   "cell_type": "code",
   "execution_count": 14,
   "id": "956eda9e-9002-47fd-ac43-a0c6dcb9193c",
   "metadata": {},
   "outputs": [],
   "source": [
    "def apply_rule_2(eng):\n",
    "    spl_1, spl_2 = eng[:int(len(eng)/2)], eng[int(len(eng)/2):]\n",
    "    \n",
    "    return [str(int(spl_1)), str(int(spl_2))]    "
   ]
  },
  {
   "cell_type": "code",
   "execution_count": 15,
   "id": "866975fd-f789-4ff0-818f-f8c3bf3b08c2",
   "metadata": {},
   "outputs": [],
   "source": [
    "def apply_rule_3(eng):\n",
    "    return str(int(eng) * 2024)"
   ]
  },
  {
   "cell_type": "code",
   "execution_count": 18,
   "id": "aab03d07-6d7a-45b4-9408-741ca9cfa0fc",
   "metadata": {},
   "outputs": [],
   "source": [
    "current = line\n",
    "for i in range(25):\n",
    "    change = []\n",
    "    for idx, eng in enumerate(current):\n",
    "        if eng == '0':\n",
    "           change.append(apply_rule_1(eng))\n",
    "        elif len(eng) % 2 == 0:\n",
    "            change = change + apply_rule_2(eng)\n",
    "        else:\n",
    "            change.append(apply_rule_3(eng))\n",
    "\n",
    "    current = change"
   ]
  },
  {
   "cell_type": "code",
   "execution_count": 20,
   "id": "2f1f25e9-e915-45cf-9fea-56c9c46b7265",
   "metadata": {},
   "outputs": [
    {
     "data": {
      "text/plain": [
       "211306"
      ]
     },
     "execution_count": 20,
     "metadata": {},
     "output_type": "execute_result"
    }
   ],
   "source": [
    "p1 = len(change)\n",
    "p1"
   ]
  },
  {
   "cell_type": "code",
   "execution_count": 62,
   "id": "78433101-e429-4753-9415-70d718a49c82",
   "metadata": {},
   "outputs": [],
   "source": [
    "counts = defaultdict(int)\n",
    "for init in line:\n",
    "    counts[init] += 1"
   ]
  },
  {
   "cell_type": "code",
   "execution_count": 63,
   "id": "f3895e38-0c2b-4f86-9c78-7ffb52d60b25",
   "metadata": {},
   "outputs": [],
   "source": [
    "current = counts\n",
    "for i in range(75):\n",
    "    change = defaultdict(int)\n",
    "    for key, value in current.items():\n",
    "        if key == '0':\n",
    "           change['1'] += value\n",
    "        elif len(key) % 2 == 0:\n",
    "            s1, s2 = apply_rule_2(key)\n",
    "            change[s1] += value\n",
    "            change[s2] += value\n",
    "        else:\n",
    "            change[(apply_rule_3(key))] += value\n",
    "\n",
    "    for key, value in change.items():\n",
    "        current[key] += value\n",
    "    current = change"
   ]
  },
  {
   "cell_type": "code",
   "execution_count": 64,
   "id": "091c8484-c42c-4352-afe6-82d9bd321cfe",
   "metadata": {},
   "outputs": [
    {
     "data": {
      "text/plain": [
       "np.int64(250783680217283)"
      ]
     },
     "execution_count": 64,
     "metadata": {},
     "output_type": "execute_result"
    }
   ],
   "source": [
    "p2 = np.sum([value for key, value in current.items()])\n",
    "p2"
   ]
  },
  {
   "cell_type": "code",
   "execution_count": null,
   "id": "6ad54aaf-e813-477b-8f7f-1fac03aa9072",
   "metadata": {},
   "outputs": [],
   "source": []
  }
 ],
 "metadata": {
  "kernelspec": {
   "display_name": "Python 3.11/ aoc2024",
   "language": "python",
   "name": "3.11"
  },
  "language_info": {
   "codemirror_mode": {
    "name": "ipython",
    "version": 3
   },
   "file_extension": ".py",
   "mimetype": "text/x-python",
   "name": "python",
   "nbconvert_exporter": "python",
   "pygments_lexer": "ipython3",
   "version": "3.11.10"
  }
 },
 "nbformat": 4,
 "nbformat_minor": 5
}
