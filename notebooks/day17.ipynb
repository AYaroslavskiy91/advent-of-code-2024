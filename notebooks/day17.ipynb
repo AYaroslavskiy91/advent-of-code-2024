{
 "cells": [
  {
   "cell_type": "code",
   "execution_count": 1,
   "id": "7f280b3b-2238-469a-95ac-66f378dfbe3e",
   "metadata": {},
   "outputs": [],
   "source": [
    "import re\n",
    "import numpy as np\n",
    "import pandas as pd"
   ]
  },
  {
   "cell_type": "code",
   "execution_count": 2,
   "id": "a5f7c2b4-2ee3-41da-b17f-142ff9b64718",
   "metadata": {},
   "outputs": [],
   "source": [
    "with open('../input/day17.txt', 'r') as f:\n",
    "    lines = f.read().splitlines()"
   ]
  },
  {
   "cell_type": "code",
   "execution_count": 3,
   "id": "93c29786-9ab6-4bbf-a9dd-5406a7f0ba1a",
   "metadata": {},
   "outputs": [
    {
     "data": {
      "text/plain": [
       "['Register A: 33940147',\n",
       " 'Register B: 0',\n",
       " 'Register C: 0',\n",
       " '',\n",
       " 'Program: 2,4,1,5,7,5,1,6,4,2,5,5,0,3,3,0']"
      ]
     },
     "execution_count": 3,
     "metadata": {},
     "output_type": "execute_result"
    }
   ],
   "source": [
    "lines"
   ]
  },
  {
   "cell_type": "code",
   "execution_count": 4,
   "id": "cd75eae1-ce0d-47af-b2bd-ea68ce06c0bc",
   "metadata": {},
   "outputs": [],
   "source": [
    "def combo(operand):\n",
    "    if operand == 4: \n",
    "        return regs['a']\n",
    "    if operand == 5:\n",
    "        return regs['b']\n",
    "    if operand == 6:\n",
    "        return regs['c']\n",
    "    return operand"
   ]
  },
  {
   "cell_type": "code",
   "execution_count": 224,
   "id": "4d15876e-a0cc-42c6-9fd7-34d14b4cec65",
   "metadata": {},
   "outputs": [],
   "source": [
    "def run_program(regs, code):  \n",
    "    p = 0\n",
    "    output = []\n",
    "    \n",
    "    while p < len(code):\n",
    "        opcode = code[p]\n",
    "        operand = code[p+1]\n",
    "        match opcode:\n",
    "            case 0:\n",
    "                regs['a'] = regs['a'] >> combo(operand)\n",
    "            case 1:\n",
    "                regs['b'] = regs['b'] ^ operand\n",
    "            case 2:\n",
    "                regs['b'] = combo(operand) & 7\n",
    "            case 3:\n",
    "                if regs['a'] != 0:\n",
    "                    p = operand - 2\n",
    "            case 4:\n",
    "                regs['b'] = regs['b'] ^ regs['c']\n",
    "            case 5:\n",
    "                output.append(combo(operand) & 7)\n",
    "            case 6:\n",
    "                regs['b'] = regs['a'] >> combo(operand)\n",
    "            case 7:\n",
    "                regs['c'] = regs['a'] >> combo(operand)\n",
    "        p += 2\n",
    "    return ''.join([str(d) for d in output])"
   ]
  },
  {
   "cell_type": "code",
   "execution_count": 226,
   "id": "c6c69c11-6106-46a8-afaf-b2961a28cebc",
   "metadata": {},
   "outputs": [
    {
     "data": {
      "text/plain": [
       "'276560231'"
      ]
     },
     "execution_count": 226,
     "metadata": {},
     "output_type": "execute_result"
    }
   ],
   "source": [
    "regs = {\n",
    "    'a': int(lines[0].split(' ')[-1]),\n",
    "    'b': 0,\n",
    "    'c': 0,\n",
    "}\n",
    "\n",
    "code = [int(d) for d in re.findall('\\d', lines[-1])]\n",
    "\n",
    "run_program(regs, code)"
   ]
  },
  {
   "cell_type": "code",
   "execution_count": 263,
   "id": "2f7882b9-dd0b-416b-b773-afbb1e30d7b8",
   "metadata": {},
   "outputs": [
    {
     "data": {
      "text/plain": [
       "'2415751642550330'"
      ]
     },
     "execution_count": 263,
     "metadata": {},
     "output_type": "execute_result"
    }
   ],
   "source": [
    "regs = {\n",
    "    'a': 107416870455451,\n",
    "    'b': 0,\n",
    "    'c': 0,\n",
    "}\n",
    "\n",
    "code = [int(d) for d in re.findall('\\d', lines[-1])]\n",
    "\n",
    "r = run_program(regs, code)\n",
    "r"
   ]
  },
  {
   "cell_type": "code",
   "execution_count": 259,
   "id": "0b5db15f-336a-46eb-be24-80a5a06a06c4",
   "metadata": {},
   "outputs": [
    {
     "name": "stdout",
     "output_type": "stream",
     "text": [
      "1\n",
      "105553116266496 3333333333333530\n",
      "2\n",
      "105553116266496 3333333333333530\n",
      "3\n",
      "107202383708160 3333333333353330\n",
      "4\n",
      "107408542138368 3333333333550330\n",
      "5\n",
      "107408542138368 3333333333550330\n",
      "6\n",
      "107408542138368 3333333333550330\n",
      "7\n",
      "107408676356096 3333333132550330\n",
      "8\n",
      "107408777019392 3333337042550330\n",
      "9\n",
      "107412900020224 3333374642550330\n",
      "10\n",
      "107412901855232 3333561642550330\n",
      "11\n",
      "107416868487168 3333651642550330\n",
      "12\n",
      "107416870453248 3333751642550330\n",
      "13\n",
      "107416870455296 3325751642550330\n",
      "14\n",
      "107416870455424 7315751642550330\n",
      "15\n",
      "107416870455448 7415751642550330\n"
     ]
    }
   ],
   "source": [
    "ans = '2415751642550330'\n",
    "a = 8**15\n",
    "for n in range(1, 16):\n",
    "    print(n)\n",
    "    r = a\n",
    "    s = 8 ** (15-n)\n",
    "    rm = 8 ** 16\n",
    "    for ar in range(r, rm, s):\n",
    "        regs = {\n",
    "            'a': ar,\n",
    "            'b': 0,\n",
    "            'c': 0,\n",
    "        }\n",
    "        \n",
    "        code = [int(d) for d in re.findall('\\d', lines[-1])]\n",
    "        \n",
    "        t = run_program(regs, code)\n",
    "        if t[-n:] == ans[-n:]:\n",
    "            a = ar\n",
    "            print(a, t)\n",
    "            break\n",
    "            "
   ]
  }
 ],
 "metadata": {
  "kernelspec": {
   "display_name": "Python 3.11/ aoc2024",
   "language": "python",
   "name": "3.11"
  },
  "language_info": {
   "codemirror_mode": {
    "name": "ipython",
    "version": 3
   },
   "file_extension": ".py",
   "mimetype": "text/x-python",
   "name": "python",
   "nbconvert_exporter": "python",
   "pygments_lexer": "ipython3",
   "version": "3.11.10"
  }
 },
 "nbformat": 4,
 "nbformat_minor": 5
}
