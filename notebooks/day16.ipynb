{
 "cells": [
  {
   "cell_type": "code",
   "execution_count": 375,
   "id": "d3eb8c49-46e4-4cbe-b6c4-4fe5d09ae14e",
   "metadata": {},
   "outputs": [],
   "source": [
    "import re\n",
    "import pandas as pd\n",
    "import numpy as np\n",
    "from collections import defaultdict\n",
    "from heapq import heappush, heappop\n",
    "import networkx as nx"
   ]
  },
  {
   "cell_type": "code",
   "execution_count": 376,
   "id": "24d2d29b-7026-468f-a76e-4c0f6f44058e",
   "metadata": {},
   "outputs": [
    {
     "data": {
      "text/plain": [
       "['#############################################################################################################################################',\n",
       " '#.#.....#...#...........#...........#.....#.......#.......#.....#...............#.........#.....#...#.....#.......#........................E#',\n",
       " '#.#.###.#.#.#.###.###.#.###.#.###.###.#.#.#.#.###.#####.#.#.###.###.###.#####.###.#####.#.#.#.#.###.#.#.#.###.###.#.###.#.#.###.#######.###.#',\n",
       " '#.....................#.....#.#...#...#.#.#.#...#...#...#.#...#...#.#.......#.....#...#.#.#.#.#...#...#.#...#...#.#...#.#.#.#...#.....#.....#',\n",
       " '#.#.#.#########.#.#.###########.#.#.###.#.#.###.###.#.###.###.###.#.###.#.#.#########.#.#.#.#.###.#.###.###.###.#.###.#.#.#.#.#.#.#.#.#.#####',\n",
       " '#.#.#.......#...#...#...................#.#...#...#...#.#.....#.#.#...#.#.#.....#.....#.#.#.#...#.#...#...#.....#.#...#...#...#...#.#.#...#.#',\n",
       " '#.#.#.#####.#.###.#.#.#.#.#.#.###.#####.###.#####.#####.#######.#.###.#.#.#####.###.#.#.###.###.#.#####.#.#######.#.###########.###.#####.#.#',\n",
       " '#.#.#...#...#.#...#.#.#...#.#...#.#.....#.........................#...#.#...#.#.....#.#.....#...#...............#.#.#...#.......#...#.....#.#',\n",
       " '#.#.###.#####.#.#.#.#.#####.###.#.#.#####.#.#.#####.###.#########.#.###.###.#.###.###########.#.#######.###.#.#.#.#.#.#.#.#.###.#.#.#.#####.#',\n",
       " '#.#.....#.....#.#.#.#.#...#...#...#.........#.#...#...#...........#...#...#.#.#...#...........#.........................#.#.#.#...#.#.......#']"
      ]
     },
     "execution_count": 376,
     "metadata": {},
     "output_type": "execute_result"
    }
   ],
   "source": [
    "with open('../input/day16.txt', 'r') as f:\n",
    "    lines = f.read().splitlines()\n",
    "\n",
    "lines[:10]"
   ]
  },
  {
   "cell_type": "code",
   "execution_count": 377,
   "id": "4132d6d8-950e-4347-8cb5-3af7c637df2d",
   "metadata": {},
   "outputs": [],
   "source": [
    "def inits(lines):\n",
    "    for x in range(len(lines)):\n",
    "        for y in range(len(lines[0])):\n",
    "            if lines[x][y] == 'S':\n",
    "                start = (x,y)\n",
    "            if lines[x][y] == 'E':\n",
    "                end = (x,y)\n",
    "    return start, end"
   ]
  },
  {
   "cell_type": "code",
   "execution_count": 378,
   "id": "aadba71a-5e09-47d8-8649-e2ce1a2c6149",
   "metadata": {},
   "outputs": [],
   "source": [
    "def get_neighbors(coord):\n",
    "    return [\n",
    "        [coord[0]-1, coord[1], 2],\n",
    "        [coord[0]+1, coord[1], 4],\n",
    "        [coord[0], coord[1]+1, 1],\n",
    "        [coord[0], coord[1]-1, 3],\n",
    "    ]"
   ]
  },
  {
   "cell_type": "code",
   "execution_count": 379,
   "id": "f80fec84-a1f7-4ace-ba2b-5d9820c3a0e4",
   "metadata": {},
   "outputs": [],
   "source": [
    "G = nx.Graph()\n",
    "start, end = inits(lines)"
   ]
  },
  {
   "cell_type": "code",
   "execution_count": 380,
   "id": "a63fae72-142b-4138-b7a1-4546840b6f5f",
   "metadata": {},
   "outputs": [],
   "source": [
    "node = (*start, 1)\n",
    "G.add_node(node)\n",
    "for x, line in enumerate(lines):\n",
    "    for y, char in enumerate(line):\n",
    "        if char == '#':\n",
    "            continue\n",
    "        for d in [1,2,3,4]:\n",
    "            G.add_node((x, y, d))\n",
    "\n",
    "for (x, y, d) in G.nodes:\n",
    "    for (xn, yn, dn) in get_neighbors((x,y)):\n",
    "        if (xn, yn, dn) in G.nodes:\n",
    "            if d == dn:\n",
    "                G.add_edge((x, y, d), (xn, yn, dn), weight=1)\n",
    "\n",
    "            elif np.abs(d-dn) != 2:\n",
    "                G.add_edge((x, y, d), (xn, yn, dn), weight=1001)\n",
    "\n",
    "for d in [1,2,3,4]:\n",
    "    G.add_edge((*end, d), end, weight=0)"
   ]
  },
  {
   "cell_type": "code",
   "execution_count": 381,
   "id": "79aab4a4-404e-49eb-8d14-d38d7840b57d",
   "metadata": {},
   "outputs": [
    {
     "data": {
      "text/plain": [
       "82460"
      ]
     },
     "execution_count": 381,
     "metadata": {},
     "output_type": "execute_result"
    }
   ],
   "source": [
    "nx.shortest_path_length(G, node, end, weight=\"weight\")"
   ]
  },
  {
   "cell_type": "code",
   "execution_count": 382,
   "id": "d37700bd-a44c-4cc0-b26d-bab7819fc26b",
   "metadata": {},
   "outputs": [
    {
     "data": {
      "text/plain": [
       "590"
      ]
     },
     "execution_count": 382,
     "metadata": {},
     "output_type": "execute_result"
    }
   ],
   "source": [
    "all_nodes = {node[:2] for path in nx.all_shortest_paths(G, node, end, weight=\"weight\") for node in path[:-1]}\n",
    "len(all_nodes)"
   ]
  },
  {
   "cell_type": "code",
   "execution_count": null,
   "id": "d3673159-4a38-4798-ad71-8e044026755e",
   "metadata": {},
   "outputs": [],
   "source": []
  }
 ],
 "metadata": {
  "kernelspec": {
   "display_name": "Python 3.11/ aoc2024",
   "language": "python",
   "name": "3.11"
  },
  "language_info": {
   "codemirror_mode": {
    "name": "ipython",
    "version": 3
   },
   "file_extension": ".py",
   "mimetype": "text/x-python",
   "name": "python",
   "nbconvert_exporter": "python",
   "pygments_lexer": "ipython3",
   "version": "3.11.10"
  }
 },
 "nbformat": 4,
 "nbformat_minor": 5
}
