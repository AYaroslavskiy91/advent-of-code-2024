{
 "cells": [
  {
   "cell_type": "code",
   "execution_count": 11,
   "id": "8e3b7711-4679-493d-af1c-24a0c917b6bf",
   "metadata": {},
   "outputs": [],
   "source": [
    "import numpy as np\n",
    "import pandas as pd\n",
    "import re"
   ]
  },
  {
   "cell_type": "code",
   "execution_count": 185,
   "id": "1f5516c2-c975-468d-aede-f4e5c783fcb4",
   "metadata": {},
   "outputs": [
    {
     "data": {
      "text/plain": [
       "['AAAAAAMMMMMMMMMMMMMMMMMMCCCCCCCCACAYYYYYYYYYYYYYYYYWWJWWIIIIIIIIIIIIIIIIIIIIIFVFMMMMMMMMMYRRYRRRRRNXXNAANIIIIIEEEEEEEEEEEEEEERRRRRRRRQQQQQCQ',\n",
       " 'AAAAAAAAMSMMMMMMMMMMMMMMMCCCCCCCCCYYYYYYYYYYYYYYYYYWWWWWWWIIIIIIIIIIIIIIIIIIFFFFFFMMMMMMMYYRYRRNNNNNNNNNNNNNIEEEEEEEEEEEEEEERRRRRRRFQQQQQQQQ',\n",
       " 'AAAAAAAFSSSMMMMMMMMMMMMXMCCCCCCCCCUCYYYYYYYYYYYYYYYWWWWWWWWIIIIIIIIIIIIIIIIIFFFFFFFMMMMYYYYYYYYNNNNNNNNNNNNIIIIEEEEEEEEEEEEERRRRRRRQQQQQQQQQ',\n",
       " 'AAAAAASSSSSSMMMMMMMMMMMXXXCCCCCCCCCCYYYYYYYYYYYYYYYYWWWWWWWIIIIIIIIIIIIIIIIFFFFFFFIMMMYYYYYYYYNNNNNNNNNNNNNNIIIIIEEEEEEEEEEEERRRRRRQQQQQQQQQ',\n",
       " 'AAAAASSSSSSSSMMMMMMMMMXXXXXCCCCCCPCCYYYYYYYYYYYYYYYYWWWWWWWWIPPIIIIIIHHHIHIFFFFFFFIMMMYYYYYYYYNNNNNNNNNNNNNNNNNIEEEEEEEEEEEERRRRRRROQQQQQQQQ']"
      ]
     },
     "execution_count": 185,
     "metadata": {},
     "output_type": "execute_result"
    }
   ],
   "source": [
    "with open('../input/day12.txt', 'r') as f:\n",
    "    lines = f.read().splitlines()\n",
    "\n",
    "lines[:5]"
   ]
  },
  {
   "cell_type": "code",
   "execution_count": 186,
   "id": "c364efc6-88b1-4239-9fa3-3effa8cdec20",
   "metadata": {},
   "outputs": [],
   "source": [
    "def get_neighbors(coord):\n",
    "    x, y = coord[0], coord[1]\n",
    "    return (\n",
    "        [x+1, y],\n",
    "        [x-1, y],\n",
    "        [x, y+1],\n",
    "        [x, y-1],\n",
    "    )"
   ]
  },
  {
   "cell_type": "code",
   "execution_count": 187,
   "id": "39f11b33-e828-4867-b8ca-fb7e7295e809",
   "metadata": {},
   "outputs": [],
   "source": [
    "def is_in_bounds(coord):\n",
    "    return coord[0] >= 0 and coord[0] < len(lines) and coord[1] >= 0 and coord[1] < len(lines[0])"
   ]
  },
  {
   "cell_type": "code",
   "execution_count": 188,
   "id": "131b51c0-659d-465c-9373-6340e377c944",
   "metadata": {
    "scrolled": true
   },
   "outputs": [],
   "source": [
    "def find_boundaries(x, y, region_type, tmp_reg):\n",
    "    area = 1\n",
    "    perim = 0\n",
    "    tmp_reg[x] = tmp_reg[x][:y] + '-' + tmp_reg[x][y+1:]\n",
    "    regions[x] = regions[x][:y] + '-' + regions[x][y+1:]\n",
    "    coords = [(x,y)]\n",
    "    for coord in get_neighbors([x,y]):\n",
    "        # print(coord)\n",
    "        if not is_in_bounds(coord):\n",
    "            perim += 1\n",
    "            # print('oob')\n",
    "        elif tmp_reg[coord[0]][coord[1]] != region_type and tmp_reg[coord[0]][coord[1]] != '-':\n",
    "            perim += 1\n",
    "            # print('eol')\n",
    "        elif tmp_reg[coord[0]][coord[1]] == region_type:\n",
    "            # print('continuing')\n",
    "            coords.append((coord[0], coord[1]))\n",
    "            a, p, c = find_boundaries(coord[0], coord[1], region_type, tmp_reg)\n",
    "            # a, p = 1, 1\n",
    "            area += a\n",
    "            perim += p\n",
    "            coords = coords + c\n",
    "    \n",
    "    return area, perim, coords"
   ]
  },
  {
   "cell_type": "code",
   "execution_count": 194,
   "id": "616c950a-9d4c-4c3b-b3bf-2eefc8df5da9",
   "metadata": {},
   "outputs": [],
   "source": [
    "def get_corner_counts(coords):\n",
    "    '''\n",
    "    ugly af\n",
    "    '''\n",
    "    ss = set(coords)\n",
    "    sides = 0\n",
    "    for s in ss:\n",
    "        #corners\n",
    "        # print(s)\n",
    "        if (s[0]-1, s[1]) not in ss and (s[0], s[1]-1) not in ss:\n",
    "            sides += 1 \n",
    "            # print('corner 1')\n",
    "        if (s[0]-1, s[1]) not in ss and (s[0], s[1]+1) not in ss:\n",
    "            sides += 1\n",
    "            # print('corner 2')\n",
    "        if (s[0]+1, s[1]) not in ss and (s[0], s[1]-1) not in ss:\n",
    "            sides += 1\n",
    "            # print('corner 3')\n",
    "        if (s[0]+1, s[1]) not in ss and (s[0], s[1]+1) not in ss:\n",
    "            sides += 1\n",
    "            # print('corner 4')\n",
    "\n",
    "    #inner corners\n",
    "        if (s[0]-1, s[1]) in ss and (s[0], s[1]-1) in ss and (s[0]-1, s[1]-1) not in ss:\n",
    "            # print('icorner 1')\n",
    "            sides += 1\n",
    "        if (s[0]-1, s[1]) in ss and (s[0], s[1]+1) in ss and (s[0]-1, s[1]+1) not in ss:\n",
    "            # print('icorner 2')\n",
    "            sides += 1\n",
    "        if (s[0]+1, s[1]) in ss and (s[0], s[1]-1) in ss and (s[0]+1, s[1]-1) not in ss:\n",
    "            # print('icorner 3')\n",
    "            sides += 1\n",
    "        if (s[0]+1, s[1]) in ss and (s[0], s[1]+1) in ss and (s[0]+1, s[1]+1) not in ss:\n",
    "            # print('icorner 4')\n",
    "            sides += 1\n",
    "\n",
    "    return sides"
   ]
  },
  {
   "cell_type": "code",
   "execution_count": 190,
   "id": "22bcada9-4ae8-4cbb-b5e4-00bf4e9dca27",
   "metadata": {
    "scrolled": true
   },
   "outputs": [],
   "source": [
    "regions = lines.copy()\n",
    "areas = []\n",
    "perims = []\n",
    "sides = []\n",
    "for x in range(len(lines)):\n",
    "    for y in range(len(lines[0])):\n",
    "        if regions[x][y] != '-':\n",
    "            region_type = regions[x][y]\n",
    "            tmp_reg = lines.copy()\n",
    "            a, p, c = find_boundaries(x, y, region_type, tmp_reg)\n",
    "            s = get_corner_counts(c)\n",
    "            areas.append(a)\n",
    "            perims.append(p)\n",
    "            sides.append(s)\n",
    "                                \n",
    "            \n",
    "            "
   ]
  },
  {
   "cell_type": "code",
   "execution_count": 191,
   "id": "f3600660-fce9-46a5-bb74-8cb91f7647db",
   "metadata": {
    "scrolled": true
   },
   "outputs": [
    {
     "data": {
      "text/html": [
       "<div>\n",
       "<style scoped>\n",
       "    .dataframe tbody tr th:only-of-type {\n",
       "        vertical-align: middle;\n",
       "    }\n",
       "\n",
       "    .dataframe tbody tr th {\n",
       "        vertical-align: top;\n",
       "    }\n",
       "\n",
       "    .dataframe thead th {\n",
       "        text-align: right;\n",
       "    }\n",
       "</style>\n",
       "<table border=\"1\" class=\"dataframe\">\n",
       "  <thead>\n",
       "    <tr style=\"text-align: right;\">\n",
       "      <th></th>\n",
       "      <th>0</th>\n",
       "      <th>1</th>\n",
       "      <th>2</th>\n",
       "      <th>price</th>\n",
       "      <th>price_p2</th>\n",
       "    </tr>\n",
       "  </thead>\n",
       "  <tbody>\n",
       "    <tr>\n",
       "      <th>0</th>\n",
       "      <td>48</td>\n",
       "      <td>38</td>\n",
       "      <td>18</td>\n",
       "      <td>1824</td>\n",
       "      <td>864</td>\n",
       "    </tr>\n",
       "    <tr>\n",
       "      <th>1</th>\n",
       "      <td>104</td>\n",
       "      <td>70</td>\n",
       "      <td>42</td>\n",
       "      <td>7280</td>\n",
       "      <td>4368</td>\n",
       "    </tr>\n",
       "    <tr>\n",
       "      <th>2</th>\n",
       "      <td>87</td>\n",
       "      <td>66</td>\n",
       "      <td>44</td>\n",
       "      <td>5742</td>\n",
       "      <td>3828</td>\n",
       "    </tr>\n",
       "    <tr>\n",
       "      <th>3</th>\n",
       "      <td>1</td>\n",
       "      <td>4</td>\n",
       "      <td>4</td>\n",
       "      <td>4</td>\n",
       "      <td>4</td>\n",
       "    </tr>\n",
       "    <tr>\n",
       "      <th>4</th>\n",
       "      <td>1</td>\n",
       "      <td>4</td>\n",
       "      <td>4</td>\n",
       "      <td>4</td>\n",
       "      <td>4</td>\n",
       "    </tr>\n",
       "    <tr>\n",
       "      <th>...</th>\n",
       "      <td>...</td>\n",
       "      <td>...</td>\n",
       "      <td>...</td>\n",
       "      <td>...</td>\n",
       "      <td>...</td>\n",
       "    </tr>\n",
       "    <tr>\n",
       "      <th>614</th>\n",
       "      <td>1</td>\n",
       "      <td>4</td>\n",
       "      <td>4</td>\n",
       "      <td>4</td>\n",
       "      <td>4</td>\n",
       "    </tr>\n",
       "    <tr>\n",
       "      <th>615</th>\n",
       "      <td>7</td>\n",
       "      <td>14</td>\n",
       "      <td>8</td>\n",
       "      <td>98</td>\n",
       "      <td>56</td>\n",
       "    </tr>\n",
       "    <tr>\n",
       "      <th>616</th>\n",
       "      <td>7</td>\n",
       "      <td>16</td>\n",
       "      <td>10</td>\n",
       "      <td>112</td>\n",
       "      <td>70</td>\n",
       "    </tr>\n",
       "    <tr>\n",
       "      <th>617</th>\n",
       "      <td>16</td>\n",
       "      <td>22</td>\n",
       "      <td>12</td>\n",
       "      <td>352</td>\n",
       "      <td>192</td>\n",
       "    </tr>\n",
       "    <tr>\n",
       "      <th>618</th>\n",
       "      <td>3</td>\n",
       "      <td>8</td>\n",
       "      <td>6</td>\n",
       "      <td>24</td>\n",
       "      <td>18</td>\n",
       "    </tr>\n",
       "  </tbody>\n",
       "</table>\n",
       "<p>619 rows × 5 columns</p>\n",
       "</div>"
      ],
      "text/plain": [
       "       0   1   2  price  price_p2\n",
       "0     48  38  18   1824       864\n",
       "1    104  70  42   7280      4368\n",
       "2     87  66  44   5742      3828\n",
       "3      1   4   4      4         4\n",
       "4      1   4   4      4         4\n",
       "..   ...  ..  ..    ...       ...\n",
       "614    1   4   4      4         4\n",
       "615    7  14   8     98        56\n",
       "616    7  16  10    112        70\n",
       "617   16  22  12    352       192\n",
       "618    3   8   6     24        18\n",
       "\n",
       "[619 rows x 5 columns]"
      ]
     },
     "execution_count": 191,
     "metadata": {},
     "output_type": "execute_result"
    }
   ],
   "source": [
    "df = pd.DataFrame([areas, perims, sides]).transpose().assign(\n",
    "    price = lambda x: x[0]*x[1],\n",
    "    price_p2 = lambda x: x[0] * x[2],\n",
    ")\n",
    "df"
   ]
  },
  {
   "cell_type": "code",
   "execution_count": 192,
   "id": "86fcaa42-1e58-47a5-9b2c-9a8a3098bec2",
   "metadata": {},
   "outputs": [
    {
     "data": {
      "text/plain": [
       "np.int64(1452678)"
      ]
     },
     "execution_count": 192,
     "metadata": {},
     "output_type": "execute_result"
    }
   ],
   "source": [
    "p1 = df['price'].sum()\n",
    "p1"
   ]
  },
  {
   "cell_type": "code",
   "execution_count": 193,
   "id": "847e58b1-ebfd-44ec-8a26-da9f84d1f5d6",
   "metadata": {},
   "outputs": [
    {
     "data": {
      "text/plain": [
       "np.int64(873584)"
      ]
     },
     "execution_count": 193,
     "metadata": {},
     "output_type": "execute_result"
    }
   ],
   "source": [
    "p2 = df['price_p2'].sum()\n",
    "p2"
   ]
  },
  {
   "cell_type": "code",
   "execution_count": null,
   "id": "e458eba1-9f1b-43d9-ab7a-554f1c7f1cdf",
   "metadata": {},
   "outputs": [],
   "source": []
  }
 ],
 "metadata": {
  "kernelspec": {
   "display_name": "Python 3.11/ aoc2024",
   "language": "python",
   "name": "3.11"
  },
  "language_info": {
   "codemirror_mode": {
    "name": "ipython",
    "version": 3
   },
   "file_extension": ".py",
   "mimetype": "text/x-python",
   "name": "python",
   "nbconvert_exporter": "python",
   "pygments_lexer": "ipython3",
   "version": "3.11.10"
  }
 },
 "nbformat": 4,
 "nbformat_minor": 5
}
