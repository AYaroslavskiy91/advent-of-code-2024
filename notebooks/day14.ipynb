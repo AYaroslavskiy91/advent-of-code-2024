{
 "cells": [
  {
   "cell_type": "code",
   "execution_count": 3,
   "id": "d379ab6d-4ffe-4c46-823e-68c014855f56",
   "metadata": {},
   "outputs": [],
   "source": [
    "import pandas as pd\n",
    "import numpy as np\n",
    "import re\n",
    "import sys"
   ]
  },
  {
   "cell_type": "code",
   "execution_count": 4,
   "id": "37ae9e27-523b-4d4f-9f05-29b4f37408ff",
   "metadata": {},
   "outputs": [],
   "source": [
    "formatter = {'int': lambda x: str(int(x))}\n",
    "np.set_printoptions(threshold=sys.maxsize, linewidth=500, formatter=formatter, suppress=True)\n",
    "pd.set_option('display.max_rows', None)\n",
    "pd.set_option('display.max_columns', None)"
   ]
  },
  {
   "cell_type": "code",
   "execution_count": 5,
   "id": "96bba54f-88cc-4289-9215-0223ecaf9f63",
   "metadata": {},
   "outputs": [
    {
     "data": {
      "text/plain": [
       "['p=80,58 v=-80,-45',\n",
       " 'p=80,4 v=-4,-91',\n",
       " 'p=40,2 v=29,39',\n",
       " 'p=38,45 v=3,-25',\n",
       " 'p=95,68 v=82,33',\n",
       " 'p=75,37 v=44,-31',\n",
       " 'p=53,27 v=-20,-99',\n",
       " 'p=47,11 v=-75,93',\n",
       " 'p=11,14 v=-37,-22',\n",
       " 'p=3,43 v=76,60']"
      ]
     },
     "execution_count": 5,
     "metadata": {},
     "output_type": "execute_result"
    }
   ],
   "source": [
    "with open('../input/day14.txt', 'r') as f:\n",
    "    lines = f.read().splitlines()\n",
    "\n",
    "lines[:10]"
   ]
  },
  {
   "cell_type": "code",
   "execution_count": 6,
   "id": "80f34b29-3fdc-4a3e-9ee3-910188ca420a",
   "metadata": {},
   "outputs": [],
   "source": [
    "width = 101\n",
    "length = 103"
   ]
  },
  {
   "cell_type": "code",
   "execution_count": 7,
   "id": "e964aa79-a69c-481b-84cd-0bf97071571b",
   "metadata": {},
   "outputs": [],
   "source": [
    "def move_robot(pos_x, pos_y, vel_x, vel_y):\n",
    "    return (pos_x+vel_x) % width, (pos_y+vel_y) % length"
   ]
  },
  {
   "cell_type": "code",
   "execution_count": 8,
   "id": "9cf1c4ff-9c0c-4672-b2d4-65ece272932e",
   "metadata": {},
   "outputs": [],
   "source": [
    "def get_robot_params(robot):\n",
    "    robot_start = [int(x) for x in re.findall('\\d+', robot.split(' ')[0])]\n",
    "    robot_vel = [int(x) for x in re.findall('-?\\d+', robot.split(' ')[1])]\n",
    "    return robot_start, robot_vel"
   ]
  },
  {
   "cell_type": "code",
   "execution_count": 9,
   "id": "2b0de98d-68e3-4014-92cf-508f211434c1",
   "metadata": {},
   "outputs": [],
   "source": [
    "def get_final_pos(robot, seconds=100):\n",
    "    pos, robot_vel = get_robot_params(robot)\n",
    "    for i in range(seconds):\n",
    "        new_pos = move_robot(*pos, *robot_vel)\n",
    "        pos = new_pos\n",
    "    return pos"
   ]
  },
  {
   "cell_type": "code",
   "execution_count": 10,
   "id": "c8d606ed-b3c1-4cd7-a81e-c67fde4f2484",
   "metadata": {},
   "outputs": [],
   "source": [
    "all_robot_poss = []\n",
    "for line in lines:\n",
    "    all_robot_poss.append(get_final_pos(line))"
   ]
  },
  {
   "cell_type": "code",
   "execution_count": 11,
   "id": "5e0ffed8-482f-4605-95d4-964b2389f363",
   "metadata": {
    "scrolled": true
   },
   "outputs": [],
   "source": [
    "def get_quad_count_prod(all_robot_poss):\n",
    "    df = pd.DataFrame(all_robot_poss).rename(columns={0:'x', 1:'y'})\n",
    "    df_q1 = df.loc[(\n",
    "        df.x.lt(50)\n",
    "        & df.y.lt(51)\n",
    "    )]\n",
    "\n",
    "    df_q2 = df.loc[(\n",
    "        df.x.gt(50)\n",
    "        & df.y.lt(51)\n",
    "    )]\n",
    "\n",
    "    df_q3 = df.loc[(\n",
    "        df.x.lt(50)\n",
    "        & df.y.gt(51)\n",
    "    )]\n",
    "\n",
    "    df_q4 = df.loc[(\n",
    "        df.x.gt(50)\n",
    "        & df.y.gt(51)\n",
    "    )]\n",
    "    return len(df_q1) * len(df_q2) * len(df_q3) * len(df_q4)"
   ]
  },
  {
   "cell_type": "code",
   "execution_count": 12,
   "id": "97cbf6e8-c0c8-4dba-819c-0d1969e3a86d",
   "metadata": {},
   "outputs": [
    {
     "data": {
      "text/plain": [
       "219512160"
      ]
     },
     "execution_count": 12,
     "metadata": {},
     "output_type": "execute_result"
    }
   ],
   "source": [
    "p1 = get_quad_count_prod(all_robot_poss)\n",
    "p1"
   ]
  },
  {
   "cell_type": "code",
   "execution_count": null,
   "id": "9e6f744d-f6fc-43ae-9f54-5b3eb18d6ee6",
   "metadata": {
    "scrolled": true
   },
   "outputs": [],
   "source": [
    "# Solved with some help from reddit\n",
    "for time in range(101*103):\n",
    "    all_robot_poss = []\n",
    "    for line in lines:\n",
    "        all_robot_poss.append(get_final_pos(line, time))\n",
    "\n",
    "    if len(all_robot_poss)==len(pd.DataFrame(all_robot_poss).drop_duplicates()):\n",
    "        print(time)\n"
   ]
  },
  {
   "cell_type": "code",
   "execution_count": null,
   "id": "9759cf12-1d21-4d13-8319-54dc12a1be35",
   "metadata": {},
   "outputs": [],
   "source": []
  }
 ],
 "metadata": {
  "kernelspec": {
   "display_name": "Python 3.11/ aoc2024",
   "language": "python",
   "name": "3.11"
  },
  "language_info": {
   "codemirror_mode": {
    "name": "ipython",
    "version": 3
   },
   "file_extension": ".py",
   "mimetype": "text/x-python",
   "name": "python",
   "nbconvert_exporter": "python",
   "pygments_lexer": "ipython3",
   "version": "3.11.10"
  }
 },
 "nbformat": 4,
 "nbformat_minor": 5
}
