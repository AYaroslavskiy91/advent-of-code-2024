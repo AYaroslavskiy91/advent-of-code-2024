{
 "cells": [
  {
   "cell_type": "code",
   "execution_count": 1,
   "id": "87e3e68a-79dd-4e81-8a23-1e6ddc3769bf",
   "metadata": {},
   "outputs": [],
   "source": [
    "import pandas as pd\n",
    "import numpy as np\n",
    "import re"
   ]
  },
  {
   "cell_type": "code",
   "execution_count": 518,
   "id": "6d6f2117-2545-4354-b4be-01e8b90b1724",
   "metadata": {},
   "outputs": [
    {
     "data": {
      "text/plain": [
       "'##########'"
      ]
     },
     "execution_count": 518,
     "metadata": {},
     "output_type": "execute_result"
    }
   ],
   "source": [
    "with open('../input/test.txt', 'r') as f:\n",
    "    inp = f.read()\n",
    "\n",
    "inp[:10]"
   ]
  },
  {
   "cell_type": "code",
   "execution_count": 519,
   "id": "747ea34f-ff05-4a35-810e-94962d5309da",
   "metadata": {},
   "outputs": [],
   "source": [
    "start_pos = inp.split(\"\\n\\n\")[0].split(\"\\n\")\n",
    "instructions  = ''.join(inp.split(\"\\n\\n\")[1].split(\"\\n\"))"
   ]
  },
  {
   "cell_type": "code",
   "execution_count": 520,
   "id": "0af27504-e352-4c97-8c29-a679cf91240d",
   "metadata": {},
   "outputs": [],
   "source": [
    "def init_walls(start_pos):\n",
    "    walls = []\n",
    "    for x in range(len(start_pos)):\n",
    "        for y in range(len(start_pos[0])):\n",
    "            if start_pos[x][y] == '#':\n",
    "                walls.append((x,y))\n",
    "\n",
    "    return walls"
   ]
  },
  {
   "cell_type": "code",
   "execution_count": 521,
   "id": "34449c7a-2211-4668-b849-7ad5965f2128",
   "metadata": {},
   "outputs": [],
   "source": [
    "def init_boxes(start_pos):\n",
    "    boxes = []\n",
    "    for x in range(len(start_pos)):\n",
    "        for y in range(len(start_pos[0])):\n",
    "            if start_pos[x][y] == 'O':\n",
    "                boxes.append((x,y))\n",
    "    return boxes"
   ]
  },
  {
   "cell_type": "code",
   "execution_count": 522,
   "id": "f6e8b270-48af-47f5-88a6-ee74fc0dde4e",
   "metadata": {},
   "outputs": [],
   "source": [
    "def init_actor(start_pos):\n",
    "    for x in range(len(start_pos)):\n",
    "        for y in range(len(start_pos[0])):\n",
    "            if start_pos[x][y] == '@':\n",
    "                return (x,y)"
   ]
  },
  {
   "cell_type": "code",
   "execution_count": 523,
   "id": "e0589144-8cb5-497d-a7ef-45573bed277c",
   "metadata": {},
   "outputs": [],
   "source": [
    "def move(pos, direc):\n",
    "    if direc == '^':\n",
    "        return (pos[0]-1, pos[1])\n",
    "    if direc == '>':\n",
    "        return (pos[0], pos[1]+1)\n",
    "    if direc == '<':\n",
    "        return (pos[0], pos[1]-1)\n",
    "    if direc == 'v':\n",
    "        return (pos[0]+1, pos[1])\n",
    "       "
   ]
  },
  {
   "cell_type": "code",
   "execution_count": 524,
   "id": "bbd97c3f-c750-4742-8d0d-e559042fecb4",
   "metadata": {},
   "outputs": [],
   "source": [
    "def check_wall(pos):\n",
    "    if pos in walls:\n",
    "        return True      \n",
    "    return False"
   ]
  },
  {
   "cell_type": "code",
   "execution_count": 525,
   "id": "b9a31ab1-5b66-4762-9b29-ce5de85dc679",
   "metadata": {},
   "outputs": [],
   "source": [
    "def check_box(pos):\n",
    "    if pos in boxes:\n",
    "        return True\n",
    "    return False"
   ]
  },
  {
   "cell_type": "code",
   "execution_count": 526,
   "id": "3db15c07-d4db-4bc0-abfb-f5c8a9b0c4d7",
   "metadata": {},
   "outputs": [],
   "source": [
    "def move_box(pos, direc):\n",
    "    next_pos = move(pos, direc)\n",
    "    if check_wall(next_pos):\n",
    "        return 0\n",
    "\n",
    "    if check_box(next_pos):\n",
    "        move_box(next_pos, direc)\n",
    "\n",
    "    if not check_box(next_pos):\n",
    "        boxes.remove(pos)\n",
    "        boxes.append(next_pos)\n"
   ]
  },
  {
   "cell_type": "code",
   "execution_count": 527,
   "id": "884863dd-39e0-42ae-9c47-971770cec374",
   "metadata": {},
   "outputs": [],
   "source": [
    "def move_actor(pos, direc):\n",
    "    return move(pos, direc)"
   ]
  },
  {
   "cell_type": "code",
   "execution_count": 528,
   "id": "477da23f-bb88-4951-a2db-ea3ae4a46bb1",
   "metadata": {},
   "outputs": [],
   "source": [
    "walls = init_walls(start_pos)\n",
    "boxes = init_boxes(start_pos)\n",
    "actor = init_actor(start_pos)"
   ]
  },
  {
   "cell_type": "code",
   "execution_count": 529,
   "id": "46883c0f-d5b5-477b-87b6-5d6ef8bacbe5",
   "metadata": {},
   "outputs": [],
   "source": [
    "for direc in instructions:\n",
    "    next_pos = move(actor, direc)\n",
    "    if check_wall(next_pos):\n",
    "        continue\n",
    "        \n",
    "    if check_box(next_pos):\n",
    "        move_box(next_pos, direc)\n",
    "        \n",
    "    if not check_box(next_pos):\n",
    "        actor = move_actor(actor, direc)"
   ]
  },
  {
   "cell_type": "code",
   "execution_count": 530,
   "id": "c848fd92-2136-4ef6-9590-7e103d517e5a",
   "metadata": {},
   "outputs": [],
   "source": [
    "def calc_gps_coord(box_coord):\n",
    "    return 100*box_coord[0] + box_coord[1]"
   ]
  },
  {
   "cell_type": "code",
   "execution_count": 531,
   "id": "363f052e-e08b-4621-ba56-ce3020647b48",
   "metadata": {},
   "outputs": [
    {
     "data": {
      "text/plain": [
       "np.int64(10092)"
      ]
     },
     "execution_count": 531,
     "metadata": {},
     "output_type": "execute_result"
    }
   ],
   "source": [
    "p1 = np.sum([calc_gps_coord(box_coord) for box_coord in boxes])\n",
    "p1"
   ]
  },
  {
   "cell_type": "code",
   "execution_count": 532,
   "id": "f9c15dfc-5752-493b-9c2b-53370b88d3a2",
   "metadata": {},
   "outputs": [
    {
     "data": {
      "text/plain": [
       "['####################',\n",
       " '##....[]....[]..[]##',\n",
       " '##............[]..##',\n",
       " '##..[][]....[]..[]##',\n",
       " '##....[]@.....[]..##',\n",
       " '##[]##....[]......##',\n",
       " '##[]....[]....[]..##',\n",
       " '##..[][]..[]..[][]##',\n",
       " '##........[]......##',\n",
       " '####################']"
      ]
     },
     "execution_count": 532,
     "metadata": {},
     "output_type": "execute_result"
    }
   ],
   "source": [
    "p2_start_pos = []\n",
    "for line in start_pos:\n",
    "    p2_line = line.replace('#', '##').replace('O', '[]').replace('.', '..').replace('@', '@.')\n",
    "    p2_start_pos.append(p2_line)\n",
    "p2_start_pos[:10]"
   ]
  },
  {
   "cell_type": "code",
   "execution_count": 533,
   "id": "b8d06575-edaf-4f3b-b065-386d46bab192",
   "metadata": {},
   "outputs": [],
   "source": [
    "def init_boxes_p2(start_pos):\n",
    "    boxes_l = []\n",
    "    boxes_r = []\n",
    "    for x in range(len(start_pos)):\n",
    "        for y in range(len(start_pos[0])):\n",
    "            if start_pos[x][y] == '[':\n",
    "                boxes_l.append((x,y))\n",
    "            if start_pos[x][y] == ']':\n",
    "                boxes_r.append((x,y))\n",
    "    return boxes_l, boxes_r"
   ]
  },
  {
   "cell_type": "code",
   "execution_count": 534,
   "id": "6db963f6-77df-403b-a430-a3e1ed721d83",
   "metadata": {},
   "outputs": [],
   "source": [
    "def check_box_p2(pos):\n",
    "    if pos in boxes_l or pos in boxes_r:\n",
    "        return True\n"
   ]
  },
  {
   "cell_type": "code",
   "execution_count": 535,
   "id": "4e6088aa-4b79-4f50-b48e-6205d7678b18",
   "metadata": {},
   "outputs": [],
   "source": [
    "def move_box_p2(pos, direc):\n",
    "    next_pos = move(pos, direc)\n",
    "\n",
    "    if direc == '^' or direc == 'v':\n",
    "        if check_wall(next_pos):\n",
    "            return 0\n",
    "\n",
    "        if pos in boxes_l and check_wall((next_pos[0], next_pos[1]+1)):\n",
    "            return 0\n",
    "\n",
    "        if pos in boxes_r and check_wall((next_pos[0], next_pos[1]-1)):\n",
    "            return 0\n",
    "        \n",
    "        if check_box_p2(next_pos):\n",
    "            move_box_p2(next_pos, direc)\n",
    "\n",
    "        if pos in boxes_l and check_box_p2((next_pos[0], next_pos[1]+1)):\n",
    "            move_box_p2((next_pos[0], next_pos[1]+1), direc)\n",
    "\n",
    "        if pos in boxes_r and check_box_p2((next_pos[0], next_pos[1]-1)):\n",
    "            move_box_p2((next_pos[0], next_pos[1]-1), direc)\n",
    "\n",
    "        if (\n",
    "            not check_box_p2(next_pos) \n",
    "            and not (pos in boxes_r and check_box_p2((next_pos[0], next_pos[1]-1))) \n",
    "            and not (pos in boxes_l and check_box_p2((next_pos[0], next_pos[1]+1)))\n",
    "        ):\n",
    "            if pos in boxes_l:\n",
    "                boxes_l.remove(pos)\n",
    "                boxes_l.append(next_pos)\n",
    "\n",
    "                boxes_r.remove((pos[0], pos[1]+1))\n",
    "                boxes_r.append((next_pos[0], next_pos[1]+1))\n",
    "                \n",
    "            if pos in boxes_r:\n",
    "                boxes_r.remove(pos)\n",
    "                boxes_r.append(next_pos)\n",
    "\n",
    "                boxes_l.remove((pos[0], pos[1]-1))\n",
    "                boxes_l.append((next_pos[0], next_pos[1]-1))\n",
    "\n",
    "    if direc == '>' or direc == '<':\n",
    "        next_pos_2 = move(next_pos, direc)\n",
    "        if check_wall(next_pos_2):\n",
    "            return 0\n",
    "\n",
    "        if check_box_p2(next_pos_2):\n",
    "            move_box_p2(next_pos_2, direc)\n",
    "\n",
    "        if not check_box_p2(next_pos_2):\n",
    "            if pos in boxes_l:\n",
    "                boxes_l.remove(pos)\n",
    "                boxes_l.append(next_pos)\n",
    "\n",
    "                boxes_r.remove(next_pos)\n",
    "                boxes_r.append(next_pos_2)\n",
    "                \n",
    "            if pos in boxes_r:\n",
    "                boxes_r.remove(pos)\n",
    "                boxes_r.append(next_pos)\n",
    "\n",
    "                boxes_l.remove(next_pos)\n",
    "                boxes_l.append(next_pos_2)"
   ]
  },
  {
   "cell_type": "code",
   "execution_count": 547,
   "id": "8fc7a558-db37-4cae-9f55-b6fa49d88a3e",
   "metadata": {},
   "outputs": [],
   "source": [
    "walls = init_walls(p2_start_pos)\n",
    "boxes_l, boxes_r = init_boxes_p2(p2_start_pos)\n",
    "actor = init_actor(p2_start_pos)"
   ]
  },
  {
   "cell_type": "code",
   "execution_count": 537,
   "id": "dfa371a4-c7b6-4610-8d16-f8cce30cbf75",
   "metadata": {},
   "outputs": [],
   "source": [
    "for direc in instructions:\n",
    "    next_pos = move(actor, direc)\n",
    "    if check_wall(next_pos):\n",
    "        continue\n",
    "        \n",
    "    if check_box_p2(next_pos):\n",
    "        move_box_p2(next_pos, direc)\n",
    "        \n",
    "    if not check_box_p2(next_pos):\n",
    "        actor = move_actor(actor, direc)"
   ]
  },
  {
   "cell_type": "code",
   "execution_count": 538,
   "id": "1f493292-3f5b-400f-b6ad-1bc0106643dc",
   "metadata": {},
   "outputs": [
    {
     "data": {
      "text/plain": [
       "np.int64(9021)"
      ]
     },
     "execution_count": 538,
     "metadata": {},
     "output_type": "execute_result"
    }
   ],
   "source": [
    "p2 = np.sum([calc_gps_coord(box_coord) for box_coord in boxes_l])\n",
    "p2"
   ]
  },
  {
   "cell_type": "code",
   "execution_count": 570,
   "id": "fa5b862f-1f53-40d3-8392-b43c602a2c7a",
   "metadata": {
    "scrolled": true
   },
   "outputs": [
    {
     "data": {
      "text/plain": [
       "[((1, 6), (1, 7)),\n",
       " ((1, 12), (1, 13)),\n",
       " ((1, 16), (1, 17)),\n",
       " ((2, 14), (2, 15)),\n",
       " ((3, 12), (3, 13)),\n",
       " ((3, 16), (3, 17)),\n",
       " ((4, 14), (4, 15)),\n",
       " ((5, 2), (5, 3)),\n",
       " ((5, 10), (5, 11)),\n",
       " ((6, 2), (6, 3)),\n",
       " ((6, 8), (6, 9)),\n",
       " ((6, 14), (6, 15)),\n",
       " ((7, 4), (7, 5)),\n",
       " ((7, 6), (7, 7)),\n",
       " ((7, 10), (7, 11)),\n",
       " ((7, 14), (7, 15)),\n",
       " ((7, 16), (7, 17)),\n",
       " ((8, 10), (8, 11)),\n",
       " ((2, 4), (2, 5)),\n",
       " ((4, 5), (4, 6)),\n",
       " ((3, 6), (3, 7))]"
      ]
     },
     "execution_count": 570,
     "metadata": {},
     "output_type": "execute_result"
    }
   ],
   "source": [
    "list(zip(boxes_l, boxes_r))"
   ]
  },
  {
   "cell_type": "code",
   "execution_count": 568,
   "id": "260559b7-b3a0-43f0-a3c4-6afc79023da7",
   "metadata": {},
   "outputs": [],
   "source": [
    "next_pos = move(actor, direc)\n",
    "if not check_wall(next_pos):\n",
    "        \n",
    "    if check_box_p2(next_pos):\n",
    "        move_box_p2(next_pos, direc)\n",
    "        \n",
    "    if not check_box_p2(next_pos):\n",
    "        actor = move_actor(actor, direc)"
   ]
  },
  {
   "cell_type": "code",
   "execution_count": 569,
   "id": "4f23d96c-0f6a-4275-a46a-4b3594b0b22b",
   "metadata": {},
   "outputs": [
    {
     "data": {
      "text/plain": [
       "(2, 6)"
      ]
     },
     "execution_count": 569,
     "metadata": {},
     "output_type": "execute_result"
    }
   ],
   "source": [
    "actor"
   ]
  },
  {
   "cell_type": "code",
   "execution_count": 548,
   "id": "2ecfb27d-479d-41ea-9469-82fe74dd3e81",
   "metadata": {},
   "outputs": [
    {
     "data": {
      "text/plain": [
       "['####################',\n",
       " '##....[]....[]..[]##',\n",
       " '##............[]..##',\n",
       " '##..[][]....[]..[]##',\n",
       " '##....[]@.....[]..##',\n",
       " '##[]##....[]......##',\n",
       " '##[]....[]....[]..##',\n",
       " '##..[][]..[]..[][]##',\n",
       " '##........[]......##',\n",
       " '####################']"
      ]
     },
     "execution_count": 548,
     "metadata": {},
     "output_type": "execute_result"
    }
   ],
   "source": [
    "p2_start_pos"
   ]
  },
  {
   "cell_type": "code",
   "execution_count": 562,
   "id": "a68f54a9-d491-4de0-8b28-97a614cd742f",
   "metadata": {},
   "outputs": [],
   "source": [
    "direc = 'v'"
   ]
  },
  {
   "cell_type": "code",
   "execution_count": null,
   "id": "bc682f5e-1dab-4d48-b2a3-18e4d3f6d5b2",
   "metadata": {},
   "outputs": [],
   "source": []
  }
 ],
 "metadata": {
  "kernelspec": {
   "display_name": "Python 3.11/ aoc2024",
   "language": "python",
   "name": "3.11"
  },
  "language_info": {
   "codemirror_mode": {
    "name": "ipython",
    "version": 3
   },
   "file_extension": ".py",
   "mimetype": "text/x-python",
   "name": "python",
   "nbconvert_exporter": "python",
   "pygments_lexer": "ipython3",
   "version": "3.11.10"
  }
 },
 "nbformat": 4,
 "nbformat_minor": 5
}
