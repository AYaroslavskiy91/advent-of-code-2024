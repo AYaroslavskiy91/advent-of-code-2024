{
 "cells": [
  {
   "cell_type": "code",
   "execution_count": 1,
   "id": "5687a594-8856-47e7-90c4-f37ffecd4da9",
   "metadata": {},
   "outputs": [],
   "source": [
    "import re\n",
    "import numpy as np"
   ]
  },
  {
   "cell_type": "code",
   "execution_count": 11,
   "id": "84f92dba-c5c2-4272-9ebd-7b8eb0402d85",
   "metadata": {},
   "outputs": [
    {
     "data": {
      "text/plain": [
       "['.....',\n",
       " '',\n",
       " '#####',\n",
       " '####.',\n",
       " '####.',\n",
       " '.##..',\n",
       " '..#..',\n",
       " '..#..',\n",
       " '.....',\n",
       " '',\n",
       " '.....',\n",
       " '.....',\n",
       " '.....',\n",
       " '..#.#',\n",
       " '#.#.#',\n",
       " '#.#.#',\n",
       " '#####',\n",
       " '',\n",
       " '.....',\n",
       " '.#..#',\n",
       " '.#..#',\n",
       " '##.##',\n",
       " '##.##',\n",
       " '##.##',\n",
       " '#####']"
      ]
     },
     "execution_count": 11,
     "metadata": {},
     "output_type": "execute_result"
    }
   ],
   "source": [
    "with open('../input/day25.txt', 'r') as f:\n",
    "    lines = f.read().splitlines()\n",
    "\n",
    "lines[-25:]"
   ]
  },
  {
   "cell_type": "code",
   "execution_count": 6,
   "id": "421ced60-1823-46f0-92e1-4d6749969fa7",
   "metadata": {},
   "outputs": [],
   "source": [
    "def parse_key_or_lock(schematic):\n",
    "    if all(s == '#' for s in schematic[0]):\n",
    "        return 'l'\n",
    "\n",
    "    if all(s == '#' for s in schematic[-1]):\n",
    "        return 'k'\n",
    "\n",
    "    else:\n",
    "        print('problem')\n",
    "        return -1"
   ]
  },
  {
   "cell_type": "code",
   "execution_count": 34,
   "id": "1309d149-89cc-4e86-afa4-5bd168f91ca8",
   "metadata": {},
   "outputs": [],
   "source": [
    "def get_key_heights(key):\n",
    "    h0 = h1 = h2 = h3 = h4 = 0\n",
    "    for rn, row in enumerate(key[::-1]):\n",
    "        h0 = rn if row[4] == '#' else h0\n",
    "        h1 = rn * 1e1 if row[3] == '#' else h1\n",
    "        h2 = rn * 1e2 if row[2] == '#' else h2\n",
    "        h3 = rn * 1e3 if row[1] == '#' else h3\n",
    "        h4 = rn * 1e4 if row[0] == '#' else h4\n",
    "\n",
    "    return sum([h0, h1, h2, h3, h4])"
   ]
  },
  {
   "cell_type": "code",
   "execution_count": 36,
   "id": "da7ef762-18f5-4a5c-8227-9a25fa94f235",
   "metadata": {},
   "outputs": [],
   "source": [
    "def get_lock_heights(lock):\n",
    "    h0 = h1 = h2 = h3 = h4 = 0\n",
    "    for rn, row in enumerate(lock):\n",
    "        h0 = rn if row[4] == '#' else h0\n",
    "        h1 = rn * 1e1 if row[3] == '#' else h1\n",
    "        h2 = rn * 1e2 if row[2] == '#' else h2\n",
    "        h3 = rn * 1e3 if row[1] == '#' else h3\n",
    "        h4 = rn * 1e4 if row[0] == '#' else h4\n",
    "\n",
    "    return sum([h0, h1, h2, h3, h4])"
   ]
  },
  {
   "cell_type": "code",
   "execution_count": 48,
   "id": "c34d76a5-348e-4ebe-874d-b3e541909581",
   "metadata": {
    "scrolled": true
   },
   "outputs": [],
   "source": [
    "keys = []\n",
    "locks = []\n",
    "for i in range(0, len(lines), 8):\n",
    "    schematic = lines[i:i+7]\n",
    "    s_type = parse_key_or_lock(schematic)\n",
    "    if s_type == 'l':\n",
    "        locks.append(get_lock_heights(schematic))\n",
    "    if s_type == 'k':\n",
    "        keys.append(get_key_heights(schematic))\n"
   ]
  },
  {
   "cell_type": "code",
   "execution_count": 71,
   "id": "e515c45a-2267-4a2e-be17-bbf1e4ac626f",
   "metadata": {},
   "outputs": [],
   "source": [
    "def is_fits(lock, key):\n",
    "    return all(((lock // (10 ** n) % 10) + (key // (10 ** n) % 10)) <= 5 for n in range(5))\n"
   ]
  },
  {
   "cell_type": "code",
   "execution_count": 76,
   "id": "1c1d3d21-a6e1-491d-9866-a1fbd6af0dd7",
   "metadata": {},
   "outputs": [
    {
     "data": {
      "text/plain": [
       "3317"
      ]
     },
     "execution_count": 76,
     "metadata": {},
     "output_type": "execute_result"
    }
   ],
   "source": [
    "fits = 0\n",
    "for key in keys:\n",
    "    for lock in locks:\n",
    "        if is_fits(lock, key):\n",
    "            fits +=1\n",
    "\n",
    "fits"
   ]
  },
  {
   "cell_type": "code",
   "execution_count": null,
   "id": "fbb96b0c-ba2b-467b-a02b-4bff59b00ebf",
   "metadata": {},
   "outputs": [],
   "source": []
  }
 ],
 "metadata": {
  "kernelspec": {
   "display_name": "Python 3.11/ aoc2024",
   "language": "python",
   "name": "3.11"
  },
  "language_info": {
   "codemirror_mode": {
    "name": "ipython",
    "version": 3
   },
   "file_extension": ".py",
   "mimetype": "text/x-python",
   "name": "python",
   "nbconvert_exporter": "python",
   "pygments_lexer": "ipython3",
   "version": "3.11.10"
  }
 },
 "nbformat": 4,
 "nbformat_minor": 5
}
