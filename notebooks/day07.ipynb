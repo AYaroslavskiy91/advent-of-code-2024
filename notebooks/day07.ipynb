{
 "cells": [
  {
   "cell_type": "code",
   "execution_count": 30,
   "id": "e7ce47a6-f41a-4124-8c31-05dddbaa160d",
   "metadata": {},
   "outputs": [],
   "source": [
    "import pandas as pd\n",
    "import numpy as np\n",
    "import re"
   ]
  },
  {
   "cell_type": "code",
   "execution_count": 20,
   "id": "30ef5109-7d1c-46e8-97da-f98519458505",
   "metadata": {},
   "outputs": [
    {
     "data": {
      "text/plain": [
       "['88045337: 4 7 80 453 37',\n",
       " '1607806: 4 348 49 228 92 1 14',\n",
       " '327264767: 58 8 992 711',\n",
       " '11278498: 658 7 169 25 374 95 1',\n",
       " '49032: 9 3 5 36 588 9',\n",
       " '7218: 6 599 4 2 9 2',\n",
       " '515788378563: 534 195 972 49 26 4',\n",
       " '95881986: 8 78 8 46 4 986 756 3 6',\n",
       " '24033: 77 3 5 3 5 4 33 1',\n",
       " '17081838: 1 588 29 827 8',\n",
       " '96767: 8 4 91 65 576',\n",
       " '277518129: 6 968 74 6 550 347 7',\n",
       " '36228: 36 130 81 7 9',\n",
       " '698187755: 997 4 1 7 756',\n",
       " '34951709: 7 6 7 2 8 765 9 97 1 9 1 7',\n",
       " '25662399: 1 60 7 6 4 23 9 6',\n",
       " '57179207: 14 1 50 2 1 463 89',\n",
       " '320286213: 5 6 99 75 95 5 3 3 1 6 2 7',\n",
       " '25533792: 557 53 1 3 40 55 4 4 9 8',\n",
       " '582217174: 350 467 90 8 5 166 89']"
      ]
     },
     "execution_count": 20,
     "metadata": {},
     "output_type": "execute_result"
    }
   ],
   "source": [
    "with open('../input/day07.txt', 'r') as f:\n",
    "    lines = f.read().splitlines()\n",
    "\n",
    "lines[:20]"
   ]
  },
  {
   "cell_type": "code",
   "execution_count": 21,
   "id": "decb84d8-e61c-4c4c-acfa-d32bf123ba8e",
   "metadata": {},
   "outputs": [],
   "source": [
    "def get_params(line):\n",
    "    splits = line.split(':')\n",
    "    total = int(splits[0])\n",
    "    terms = [int(term) for term in re.findall('\\d+', splits[1])]\n",
    "\n",
    "    return total, terms"
   ]
  },
  {
   "cell_type": "code",
   "execution_count": 27,
   "id": "764f3b3b-3643-44ed-885a-ff26fb97b7eb",
   "metadata": {},
   "outputs": [],
   "source": [
    "def check_valid(total, terms):\n",
    "    totals = [terms[0]]\n",
    "    for term in terms[1:]:\n",
    "        new_sums = [cur+term for cur in totals]\n",
    "        new_prods = [cur*term for cur in totals]\n",
    "        totals = new_sums + new_prods\n",
    "\n",
    "    if total in totals:\n",
    "        return total\n",
    "\n",
    "    return 0"
   ]
  },
  {
   "cell_type": "code",
   "execution_count": 28,
   "id": "7ead9beb-32a5-429d-b78c-3d63956e6e64",
   "metadata": {},
   "outputs": [
    {
     "data": {
      "text/plain": [
       "1620690235709"
      ]
     },
     "execution_count": 28,
     "metadata": {},
     "output_type": "execute_result"
    }
   ],
   "source": [
    "p1 = 0\n",
    "for line in lines:\n",
    "    total, terms = get_params(line)\n",
    "    p1 += check_valid(total, terms)\n",
    "\n",
    "p1"
   ]
  },
  {
   "cell_type": "code",
   "execution_count": 31,
   "id": "54ffc9d7-9a68-4f41-8c71-8b6ba7b85840",
   "metadata": {},
   "outputs": [],
   "source": [
    "def check_valid_p2(total, terms):\n",
    "    totals = [terms[0]]\n",
    "    for term in terms[1:]:\n",
    "        new_sums = [cur+term for cur in totals]\n",
    "        new_prods = [cur*term for cur in totals]\n",
    "        new_cats = [int(str(cur)+str(term)) for cur in totals]\n",
    "        totals = new_sums + new_prods + new_cats\n",
    "\n",
    "    if total in totals:\n",
    "        return total\n",
    "\n",
    "    return 0"
   ]
  },
  {
   "cell_type": "code",
   "execution_count": 32,
   "id": "c0e584b5-f8b0-4c89-9d2e-c53597428b17",
   "metadata": {},
   "outputs": [
    {
     "data": {
      "text/plain": [
       "145397611075341"
      ]
     },
     "execution_count": 32,
     "metadata": {},
     "output_type": "execute_result"
    }
   ],
   "source": [
    "p2 = 0\n",
    "for line in lines:\n",
    "    total, terms = get_params(line)\n",
    "    p2 += check_valid_p2(total, terms)\n",
    "\n",
    "p2"
   ]
  },
  {
   "cell_type": "code",
   "execution_count": null,
   "id": "fc6c3acd-1bcf-404b-90d8-fac15ac5cec2",
   "metadata": {},
   "outputs": [],
   "source": []
  }
 ],
 "metadata": {
  "kernelspec": {
   "display_name": "Python 3.11/ aoc2024",
   "language": "python",
   "name": "3.11"
  },
  "language_info": {
   "codemirror_mode": {
    "name": "ipython",
    "version": 3
   },
   "file_extension": ".py",
   "mimetype": "text/x-python",
   "name": "python",
   "nbconvert_exporter": "python",
   "pygments_lexer": "ipython3",
   "version": "3.11.10"
  }
 },
 "nbformat": 4,
 "nbformat_minor": 5
}
