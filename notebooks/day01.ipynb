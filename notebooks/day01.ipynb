{
 "cells": [
  {
   "cell_type": "code",
   "execution_count": 39,
   "id": "2ad1e56b-f5fa-4b54-b8c8-1929c8afcf54",
   "metadata": {},
   "outputs": [],
   "source": [
    "import pandas as pd\n",
    "import numpy as np\n",
    "from collections import Counter\n",
    "import re"
   ]
  },
  {
   "cell_type": "code",
   "execution_count": 52,
   "id": "cb4960ec-1051-474b-b2de-779a8d624243",
   "metadata": {},
   "outputs": [
    {
     "data": {
      "text/plain": [
       "['57643   17620\\n',\n",
       " '19062   47340\\n',\n",
       " '11105   16109\\n',\n",
       " '72032   30050\\n',\n",
       " '16289   65967\\n',\n",
       " '42361   35795\\n',\n",
       " '45873   16124\\n',\n",
       " '16167   65832\\n',\n",
       " '57216   47340\\n',\n",
       " '15920   71163\\n']"
      ]
     },
     "execution_count": 52,
     "metadata": {},
     "output_type": "execute_result"
    }
   ],
   "source": [
    "with open('../input/day01.txt', 'r') as f:\n",
    "    lines = f.readlines()\n",
    "lines[:10]"
   ]
  },
  {
   "cell_type": "code",
   "execution_count": 21,
   "id": "5516589b-687a-4c89-abaf-1e66af09f5d1",
   "metadata": {},
   "outputs": [],
   "source": [
    "def get_ids(line):\n",
    "    parsed_lines = [int(num) for num in re.findall('\\d+', line)]\n",
    "    return parsed_lines[0], parsed_lines[1]"
   ]
  },
  {
   "cell_type": "code",
   "execution_count": 23,
   "id": "d5444a3d-976e-4819-9402-7fba749e0269",
   "metadata": {},
   "outputs": [],
   "source": [
    "left_ids = []\n",
    "right_ids = []\n",
    "\n",
    "for line in lines:\n",
    "    left_id, right_id = get_ids(line)\n",
    "    left_ids.append(left_id)\n",
    "    right_ids.append(right_id)"
   ]
  },
  {
   "cell_type": "code",
   "execution_count": 26,
   "id": "61da70ed-0622-435d-b7a1-550d2ca901e6",
   "metadata": {},
   "outputs": [],
   "source": [
    "left_ids.sort()\n",
    "right_ids.sort()"
   ]
  },
  {
   "cell_type": "code",
   "execution_count": 32,
   "id": "d6e88dc6-58bd-44d0-bfb4-1a6e0aabd55b",
   "metadata": {},
   "outputs": [
    {
     "data": {
      "text/plain": [
       "np.int64(2086478)"
      ]
     },
     "execution_count": 32,
     "metadata": {},
     "output_type": "execute_result"
    }
   ],
   "source": [
    "p1 = np.sum(np.abs(np.subtract(left_ids, right_ids)))\n",
    "p1"
   ]
  },
  {
   "cell_type": "code",
   "execution_count": 46,
   "id": "a7121db4-c966-423d-8252-b38c501ed1ca",
   "metadata": {},
   "outputs": [
    {
     "data": {
      "text/plain": [
       "np.int64(24941624)"
      ]
     },
     "execution_count": 46,
     "metadata": {},
     "output_type": "execute_result"
    }
   ],
   "source": [
    "p2 = np.sum([left * Counter(right_ids)[left] for left in left_ids])\n",
    "p2"
   ]
  },
  {
   "cell_type": "code",
   "execution_count": null,
   "id": "be760d55-df96-4a4e-85b7-b3eec7809d95",
   "metadata": {},
   "outputs": [],
   "source": []
  },
  {
   "cell_type": "code",
   "execution_count": null,
   "id": "5e5d830a-0601-40e9-b171-309118ba9614",
   "metadata": {},
   "outputs": [],
   "source": []
  },
  {
   "cell_type": "code",
   "execution_count": null,
   "id": "c2be728c-1356-4ed1-ac40-0f7a18073484",
   "metadata": {},
   "outputs": [],
   "source": []
  },
  {
   "cell_type": "code",
   "execution_count": null,
   "id": "4f72e6a6-0a6b-46ec-ad5a-6bc5c9b5e210",
   "metadata": {},
   "outputs": [],
   "source": []
  },
  {
   "cell_type": "code",
   "execution_count": null,
   "id": "815dfa3a-471a-4427-9620-697db810e867",
   "metadata": {},
   "outputs": [],
   "source": []
  },
  {
   "cell_type": "code",
   "execution_count": null,
   "id": "7141c04c-4f08-4f5d-9059-be4da537fcf3",
   "metadata": {},
   "outputs": [],
   "source": []
  },
  {
   "cell_type": "code",
   "execution_count": null,
   "id": "2d7e4574-f1c8-4652-963b-25e44ca27e61",
   "metadata": {},
   "outputs": [],
   "source": []
  },
  {
   "cell_type": "code",
   "execution_count": null,
   "id": "e5c58171-aaef-4d07-a8f7-df1dc02e2f63",
   "metadata": {},
   "outputs": [],
   "source": []
  },
  {
   "cell_type": "code",
   "execution_count": null,
   "id": "34c6584f-aedd-4531-aef3-3b73164f0e4d",
   "metadata": {},
   "outputs": [],
   "source": []
  },
  {
   "cell_type": "code",
   "execution_count": null,
   "id": "c49e6d4a-a0c7-4116-8ac3-8ceae2c5fa60",
   "metadata": {},
   "outputs": [],
   "source": []
  },
  {
   "cell_type": "code",
   "execution_count": null,
   "id": "39321387-593a-4257-bc23-9d870cf2cf0d",
   "metadata": {},
   "outputs": [],
   "source": []
  },
  {
   "cell_type": "code",
   "execution_count": null,
   "id": "c6b742b1-5133-409c-a577-46c93c922237",
   "metadata": {},
   "outputs": [],
   "source": []
  },
  {
   "cell_type": "code",
   "execution_count": null,
   "id": "6773038c-53b1-48f6-8959-6c7a19a840ed",
   "metadata": {},
   "outputs": [],
   "source": []
  },
  {
   "cell_type": "code",
   "execution_count": null,
   "id": "a5834183-b66d-4e09-a5bf-6b312fdd0642",
   "metadata": {},
   "outputs": [],
   "source": []
  },
  {
   "cell_type": "code",
   "execution_count": null,
   "id": "3abd869b-4250-4f73-baa5-1d7c8f076bd6",
   "metadata": {},
   "outputs": [],
   "source": []
  },
  {
   "cell_type": "code",
   "execution_count": null,
   "id": "48506e81-ea4d-411b-b5a6-b50eeebf3624",
   "metadata": {},
   "outputs": [],
   "source": []
  },
  {
   "cell_type": "code",
   "execution_count": null,
   "id": "a093a99e-d3ca-4a96-8729-0598edb2d9ff",
   "metadata": {},
   "outputs": [],
   "source": []
  },
  {
   "cell_type": "code",
   "execution_count": null,
   "id": "9a20dde2-4166-42ab-96f6-48886f2619f9",
   "metadata": {},
   "outputs": [],
   "source": []
  },
  {
   "cell_type": "code",
   "execution_count": null,
   "id": "8c1a75b7-b647-4476-900a-def21f776303",
   "metadata": {},
   "outputs": [],
   "source": []
  },
  {
   "cell_type": "code",
   "execution_count": null,
   "id": "0b2657f5-9078-4f9f-a7a3-159a905e00ab",
   "metadata": {},
   "outputs": [],
   "source": []
  },
  {
   "cell_type": "code",
   "execution_count": null,
   "id": "215f8843-67db-4516-9e95-9ada17435e79",
   "metadata": {},
   "outputs": [],
   "source": []
  },
  {
   "cell_type": "code",
   "execution_count": null,
   "id": "d3289489-b16b-43df-852b-32509edcbae8",
   "metadata": {},
   "outputs": [],
   "source": []
  },
  {
   "cell_type": "code",
   "execution_count": null,
   "id": "f88a615f-c7a9-4b8f-a0b5-fd554b47b6f5",
   "metadata": {},
   "outputs": [],
   "source": []
  },
  {
   "cell_type": "code",
   "execution_count": null,
   "id": "db3cd860-8210-4bdf-8e18-d8dcc2a477ce",
   "metadata": {},
   "outputs": [],
   "source": []
  },
  {
   "cell_type": "code",
   "execution_count": null,
   "id": "ac357e95-bad0-4b74-ac57-87dc7ac88f11",
   "metadata": {},
   "outputs": [],
   "source": []
  },
  {
   "cell_type": "code",
   "execution_count": null,
   "id": "6a489388-5b21-4520-aa2e-5541ceafef4d",
   "metadata": {},
   "outputs": [],
   "source": []
  },
  {
   "cell_type": "code",
   "execution_count": null,
   "id": "5c2de196-3fe8-42f3-94b5-0096eb58098d",
   "metadata": {},
   "outputs": [],
   "source": []
  },
  {
   "cell_type": "code",
   "execution_count": null,
   "id": "e56ab0f0-828c-4908-8ae4-b21c847d8f99",
   "metadata": {},
   "outputs": [],
   "source": []
  },
  {
   "cell_type": "code",
   "execution_count": null,
   "id": "74d880fa-1a33-41fc-9ccb-d85ed883c281",
   "metadata": {},
   "outputs": [],
   "source": []
  },
  {
   "cell_type": "code",
   "execution_count": null,
   "id": "c59bb5cb-51f7-46d0-93e6-9f400a2f5888",
   "metadata": {},
   "outputs": [],
   "source": []
  },
  {
   "cell_type": "code",
   "execution_count": null,
   "id": "903c9397-1443-4ea5-9d1d-72523f01b469",
   "metadata": {},
   "outputs": [],
   "source": []
  },
  {
   "cell_type": "code",
   "execution_count": null,
   "id": "734dbd52-af8f-4b65-9e19-2142ec381e0b",
   "metadata": {},
   "outputs": [],
   "source": []
  },
  {
   "cell_type": "code",
   "execution_count": null,
   "id": "500a0a3d-d3d2-4e85-8dbd-5c3c83928ea3",
   "metadata": {},
   "outputs": [],
   "source": []
  }
 ],
 "metadata": {
  "kernelspec": {
   "display_name": "Python 3.11/ aoc2024",
   "language": "python",
   "name": "3.11"
  },
  "language_info": {
   "codemirror_mode": {
    "name": "ipython",
    "version": 3
   },
   "file_extension": ".py",
   "mimetype": "text/x-python",
   "name": "python",
   "nbconvert_exporter": "python",
   "pygments_lexer": "ipython3",
   "version": "3.11.10"
  }
 },
 "nbformat": 4,
 "nbformat_minor": 5
}
